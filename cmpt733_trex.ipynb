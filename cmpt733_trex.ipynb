{
  "nbformat": 4,
  "nbformat_minor": 0,
  "metadata": {
    "accelerator": "GPU",
    "colab": {
      "name": "cmpt733_trex.ipynb",
      "provenance": [],
      "collapsed_sections": [],
      "machine_shape": "hm"
    },
    "kernelspec": {
      "display_name": "Python 3",
      "name": "python3"
    },
    "language_info": {
      "name": "python"
    }
  },
  "cells": [
    {
      "cell_type": "code",
      "metadata": {
        "colab": {
          "base_uri": "https://localhost:8080/"
        },
        "id": "L14n1EAULbsM",
        "outputId": "87250fea-97b4-4a65-fe4f-1fe17b3b5462"
      },
      "source": [
        "from google.colab import auth\n",
        "auth.authenticate_user()\n",
        "\n",
        "# https://cloud.google.com/resource-manager/docs/creating-managing-projects\n",
        "project_id = 'cmpt-756-akash'\n",
        "!gcloud config set project {project_id}"
      ],
      "execution_count": 1,
      "outputs": [
        {
          "output_type": "stream",
          "text": [
            "Updated property [core/project].\n"
          ],
          "name": "stdout"
        }
      ]
    },
    {
      "cell_type": "code",
      "metadata": {
        "id": "EOuRtyVqLbsY",
        "colab": {
          "base_uri": "https://localhost:8080/"
        },
        "outputId": "ef2ba068-b8c6-4ac9-dd96-8064c6a63631"
      },
      "source": [
        "# Download the file from a given Google Cloud Storage bucket.\n",
        "!gsutil cp gs://news_csv/train.csv /tmp/\n",
        "!gsutil cp gs://news_csv/fake.csv /tmp/\n",
        "!gsutil cp gs://news_csv/fake_or_real_news.csv /tmp/\n",
        "!gsutil cp -r gs://news_csv/fake-news/ /tmp/\n",
        "!gsutil cp -r gs://news_csv/fakenewskdd2020/ /tmp/\n",
        "# # Print the result to make sure the transfer worked.\n",
        "# !cat /tmp/"
      ],
      "execution_count": 1,
      "outputs": [
        {
          "output_type": "stream",
          "text": [
            "Copying gs://news_csv/train.csv...\n",
            "/ [1 files][112.6 MiB/112.6 MiB]                                                \n",
            "Operation completed over 1 objects/112.6 MiB.                                    \n",
            "Copying gs://news_csv/fake.csv...\n",
            "- [1 files][ 54.0 MiB/ 54.0 MiB]                                                \n",
            "Operation completed over 1 objects/54.0 MiB.                                     \n",
            "Copying gs://news_csv/fake_or_real_news.csv...\n",
            "- [1 files][ 29.3 MiB/ 29.3 MiB]                                                \n",
            "Operation completed over 1 objects/29.3 MiB.                                     \n",
            "Copying gs://news_csv/fake-news/test.csv...\n",
            "Copying gs://news_csv/fake-news/train.csv...\n",
            "| [2 files][118.0 MiB/118.0 MiB]                                                \n",
            "Operation completed over 2 objects/118.0 MiB.                                    \n",
            "Copying gs://news_csv/fakenewskdd2020/test.csv...\n",
            "Copying gs://news_csv/fakenewskdd2020/train.csv...\n",
            "\\ [2 files][ 23.5 MiB/ 23.5 MiB]                                                \n",
            "Operation completed over 2 objects/23.5 MiB.                                     \n"
          ],
          "name": "stdout"
        }
      ]
    },
    {
      "cell_type": "code",
      "metadata": {
        "id": "XfykO2huL1Md"
      },
      "source": [
        "# !pip install -q -U keras-tuner\n",
        "import pandas as pd\n",
        "import numpy as np\n",
        "import csv\n",
        "import tensorflow as tf\n",
        "from pickle import load\n",
        "from numpy import asarray\n",
        "import datetime\n",
        "from numpy import zeros\n",
        "from tensorflow.keras.preprocessing.text import one_hot\n",
        "from tensorflow.keras.preprocessing.sequence import pad_sequences\n",
        "from tensorflow.keras.models import Sequential\n",
        "from tensorflow.keras.preprocessing.text import Tokenizer\n",
        "from tensorflow.keras.utils import plot_model\n",
        "from tensorflow.keras.models import Model\n",
        "from tensorflow.keras.layers import Input\n",
        "from tensorflow.keras.layers import Dense\n",
        "from tensorflow.keras.layers import Flatten\n",
        "from tensorflow.keras.layers import Dropout\n",
        "from tensorflow.keras.layers import Embedding, LSTM\n",
        "from tensorflow.keras.utils import to_categorical\n",
        "from tensorflow.keras.layers import Conv1D\n",
        "from tensorflow.keras.layers import MaxPooling1D\n",
        "from tensorflow.keras.layers import concatenate\n",
        "from sklearn.model_selection import train_test_split\n",
        "from tensorflow.keras.models import load_model\n",
        "from kerastuner import RandomSearch, BayesianOptimization\n",
        "from tensorflow.keras.applications import ResNet50"
      ],
      "execution_count": 1,
      "outputs": []
    },
    {
      "cell_type": "code",
      "metadata": {
        "id": "M4SKVqYPO2RS"
      },
      "source": [
        "df = pd.read_csv(\"/tmp/fake.csv\")\n",
        "\n",
        "# list of language values to drop\n",
        "drop_lang_values = ['ignore', 'german', 'french', 'spanish', 'russian',\n",
        "       'greek', 'finnish', 'portuguese', 'arabic', 'dutch', 'italian',\n",
        "       'turkish', 'norwegian', 'chinese', 'polish']\n",
        "\n",
        "df = df[~df.language.isin(drop_lang_values)]\n",
        "df.language.unique() # shows the number of unique language column values to check if only en is left \n",
        "\n",
        "# list of columns to drop\n",
        "df = df.drop(columns=['uuid', 'ord_in_thread', 'published', 'crawled', 'thread_title', \n",
        "                      'spam_score', 'main_img_url', 'replies_count', 'participants_count',\t\n",
        "                      'likes', 'comments', 'shares', 'country',\t'domain_rank', 'language', 'title', 'author', 'site_url'])\n",
        "\n",
        "df.type.unique() # number of classes we have"
      ],
      "execution_count": null,
      "outputs": []
    },
    {
      "cell_type": "code",
      "metadata": {
        "colab": {
          "base_uri": "https://localhost:8080/"
        },
        "id": "UGWTfej8YfKI",
        "outputId": "ac3da678-01a0-4570-ae06-1b00f4f34331"
      },
      "source": [
        "df.type.value_counts()"
      ],
      "execution_count": null,
      "outputs": [
        {
          "output_type": "execute_result",
          "data": {
            "text/plain": [
              "bs            10900\n",
              "bias            443\n",
              "conspiracy      430\n",
              "hate            243\n",
              "satire          146\n",
              "state           120\n",
              "junksci         102\n",
              "fake             19\n",
              "Name: type, dtype: int64"
            ]
          },
          "metadata": {
            "tags": []
          },
          "execution_count": 28
        }
      ]
    },
    {
      "cell_type": "markdown",
      "metadata": {
        "id": "Cba9vcQBXIvT"
      },
      "source": [
        "Clearly we can see that we have a lot of classes and they are not balanced. So, we need to do something to balance the dataset first."
      ]
    },
    {
      "cell_type": "markdown",
      "metadata": {
        "id": "IMWZ_BnnXgA8"
      },
      "source": [
        "To fix the imbalanced dataset, we are going to reduce the classes to two only."
      ]
    },
    {
      "cell_type": "code",
      "metadata": {
        "id": "YpqpDkhueEea"
      },
      "source": [
        "# dropna and reindex\n",
        "df = df.dropna()\n",
        "df_new = df.reindex()\n",
        "\n",
        "df_new.loc[df_new['type'] == 'bias', 'type'] = 'bias, conspiracy, hate, satire, state, junksci or fake'\n",
        "df_new.loc[df_new['type'] == 'conspiracy', 'type'] = 'bias, conspiracy, hate, satire, state, junksci or fake'\n",
        "df_new.loc[df_new['type'] == 'hate', 'type'] = 'bias, conspiracy, hate, satire, state, junksci or fake'\n",
        "df_new.loc[df_new['type'] == 'satire', 'type'] = 'bias, conspiracy, hate, satire, state, junksci or fake'\n",
        "df_new.loc[df_new['type'] == 'state', 'type'] = 'bias, conspiracy, hate, satire, state, junksci or fake'\n",
        "df_new.loc[df_new['type'] == 'junksci', 'type'] = 'bias, conspiracy, hate, satire, state, junksci or fake'\n",
        "df_new.loc[df_new['type'] == 'fake', 'type'] = 'bias, conspiracy, hate, satire, state, junksci or fake'"
      ],
      "execution_count": null,
      "outputs": []
    },
    {
      "cell_type": "code",
      "metadata": {
        "colab": {
          "base_uri": "https://localhost:8080/"
        },
        "id": "Ay8vdAvYhffF",
        "outputId": "4fc63f64-7af0-49e6-8d08-1e65f77aed58"
      },
      "source": [
        "df_new.type.value_counts()"
      ],
      "execution_count": null,
      "outputs": [
        {
          "output_type": "execute_result",
          "data": {
            "text/plain": [
              "bs                                                        10900\n",
              "bias, conspiracy, hate, satire, state, junksci or fake     1457\n",
              "Name: type, dtype: int64"
            ]
          },
          "metadata": {
            "tags": []
          },
          "execution_count": 33
        }
      ]
    },
    {
      "cell_type": "code",
      "metadata": {
        "id": "30GSrtHlhkzd"
      },
      "source": [
        "# Second Dataset\n",
        "df_2 = pd.read_csv('/tmp/fake_or_real_news.csv')\n",
        "# drop unrequired columns and rename.\n",
        "df_2 = df_2.drop(columns=['title', 'Unnamed: 0']).dropna().reindex()\n",
        "df_2 = df_2.rename(columns={'label':'type'})\n",
        "# df_final = df_2"
      ],
      "execution_count": 2,
      "outputs": []
    },
    {
      "cell_type": "code",
      "metadata": {
        "colab": {
          "base_uri": "https://localhost:8080/"
        },
        "id": "IauhuUR98-4m",
        "outputId": "44be5b92-4df5-4f85-c4b3-e2903c35c71a"
      },
      "source": [
        "df_2.type.value_counts()"
      ],
      "execution_count": 15,
      "outputs": [
        {
          "output_type": "execute_result",
          "data": {
            "text/plain": [
              "REAL    3171\n",
              "FAKE    3164\n",
              "Name: type, dtype: int64"
            ]
          },
          "metadata": {
            "tags": []
          },
          "execution_count": 15
        }
      ]
    },
    {
      "cell_type": "code",
      "metadata": {
        "id": "eX0I9BQv6rM-",
        "colab": {
          "base_uri": "https://localhost:8080/"
        },
        "outputId": "e6963091-e674-4125-8aed-1dcee9121a82"
      },
      "source": [
        "# Third dataset\n",
        "# Labels are:\n",
        "# 1: fake\n",
        "# 0: true\n",
        "df_3 = pd.read_csv('/tmp/fakenewskdd2020/train.csv', delimiter=\"\\t\", quoting=csv.QUOTE_NONE)\n",
        "df_3 = df_3.rename(columns={'label':'type'}).dropna().reindex()\n",
        "\n",
        "# label classes\n",
        "df_3.loc[df_3['type'] == '1', 'type'] = 'FAKE'\n",
        "df_3.loc[df_3['type'] == '0', 'type'] = 'REAL'\n",
        "\n",
        "# drop label column\n",
        "drop_val = ['label']\n",
        "df_3 = df_3[~df_3.type.isin(drop_val)]\n",
        "\n",
        "df_3.type.value_counts()"
      ],
      "execution_count": 3,
      "outputs": [
        {
          "output_type": "execute_result",
          "data": {
            "text/plain": [
              "REAL    2973\n",
              "FAKE    2014\n",
              "Name: type, dtype: int64"
            ]
          },
          "metadata": {
            "tags": []
          },
          "execution_count": 3
        }
      ]
    },
    {
      "cell_type": "code",
      "metadata": {
        "id": "YeaTjOlwFd_S"
      },
      "source": [
        "df_final = df_3"
      ],
      "execution_count": 23,
      "outputs": []
    },
    {
      "cell_type": "code",
      "metadata": {
        "id": "U2zk6GCf80hI",
        "colab": {
          "base_uri": "https://localhost:8080/"
        },
        "outputId": "5ff3956c-3621-497c-e31b-abe61534b6d1"
      },
      "source": [
        "# Fourth Dataset \n",
        "# Labels are:\n",
        "# 1: unreliable\n",
        "# 0: reliable\n",
        "\n",
        "df_4 = pd.read_csv('/tmp/fake-news/train.csv')\n",
        "df_4 = df_4.rename(columns={'label':'type'}).drop(columns=['id', 'title', 'author']).dropna().reindex()\n",
        "df_4['label'] = np.where(df_4.type == 1, \"FAKE\", \"REAL\")\n",
        "df_4 = df_4.drop(columns=['type']).rename(columns={'label':'type'})\n",
        "df_4.type.value_counts()"
      ],
      "execution_count": 4,
      "outputs": [
        {
          "output_type": "execute_result",
          "data": {
            "text/plain": [
              "REAL    10387\n",
              "FAKE    10374\n",
              "Name: type, dtype: int64"
            ]
          },
          "metadata": {
            "tags": []
          },
          "execution_count": 4
        }
      ]
    },
    {
      "cell_type": "code",
      "metadata": {
        "id": "YlNcecz3bmGF"
      },
      "source": [
        "df_final = df_4"
      ],
      "execution_count": 14,
      "outputs": []
    },
    {
      "cell_type": "markdown",
      "metadata": {
        "id": "xhfL3xo1ZX5V"
      },
      "source": [
        "Combine all of the datasets and check if the final dataset is balanced."
      ]
    },
    {
      "cell_type": "code",
      "metadata": {
        "colab": {
          "base_uri": "https://localhost:8080/"
        },
        "id": "Wf9_z1RF49Z8",
        "outputId": "b89dcee3-4e63-47d8-b415-190b06ad12a6"
      },
      "source": [
        "df_final = df_2.append([df_3, df_4]).reindex()\n",
        "df_final.type.value_counts()"
      ],
      "execution_count": 15,
      "outputs": [
        {
          "output_type": "execute_result",
          "data": {
            "text/plain": [
              "REAL    16531\n",
              "FAKE    15552\n",
              "Name: type, dtype: int64"
            ]
          },
          "metadata": {
            "tags": []
          },
          "execution_count": 15
        }
      ]
    },
    {
      "cell_type": "markdown",
      "metadata": {
        "id": "CcvdXreeZj_I"
      },
      "source": [
        "So, our dataset is pretty much balanced and now, we can use this dataset."
      ]
    },
    {
      "cell_type": "markdown",
      "metadata": {
        "id": "ABI5WtOTttVC"
      },
      "source": [
        "Text dataset requires a lot of cleaning to reduce the noise and increase the presence of meaningful words. We are going to do some cleaning like:\n",
        "1. Lowercase all words.\n",
        "2. Filter out punctuations.\n",
        "3. Remove words that are not alphabetic. \n",
        "4. Remove stop words.\n",
        "5. Remove Stem words.\n",
        "6. Remove words that are of length 1.\n",
        "\n"
      ]
    },
    {
      "cell_type": "markdown",
      "metadata": {
        "id": "05-eV5qYXYmh"
      },
      "source": [
        "Need to work on lower case"
      ]
    },
    {
      "cell_type": "code",
      "metadata": {
        "colab": {
          "base_uri": "https://localhost:8080/"
        },
        "id": "ZZV0P2UcTY_5",
        "outputId": "eccb2c52-421d-4c0a-db8b-1af643f053fa"
      },
      "source": [
        "import string\n",
        "import re\n",
        "import nltk\n",
        "import pandas as pd\n",
        "import numpy as np\n",
        "nltk.download('punkt')\n",
        "nltk.download('stopwords')\n",
        "from nltk.tokenize import word_tokenize\n",
        "from nltk.corpus import stopwords\n",
        "from nltk.stem.porter import PorterStemmer\n",
        "\n",
        "def clean_text(text):\n",
        "    # split into words\n",
        "    # tokens = word_tokenize(text)\n",
        "    # convert to lower case\n",
        "    tokens = text.split()\n",
        "    # prepare regex for char filtering\n",
        "    re_punc = re.compile('[%s]' % re.escape(string.punctuation))\n",
        "    # remove punctuation from each word\n",
        "    stripped = [re_punc.sub('', w) for w in tokens]\n",
        "    # remove remaining tokens that are not alphabetic\n",
        "    words = [word for word in stripped if word.isalpha()]\n",
        "    # filter out stop words\n",
        "    stop_words = set(stopwords.words('english'))\n",
        "    words = [w for w in words if not w in stop_words]\n",
        "    # print(words[:100])\n",
        "    # stemming of words\n",
        "    porter = PorterStemmer()\n",
        "    stemmed = [porter.stem(word) for word in words]\n",
        "    # print(stemmed[:100])\n",
        "    # filter out short tokens\n",
        "    cleaned_words = [word for word in stemmed if len(word) > 1]\n",
        "    return cleaned_words\n",
        "\n",
        "df_final['text'] = df_final.text.apply(clean_text)"
      ],
      "execution_count": 6,
      "outputs": [
        {
          "output_type": "stream",
          "text": [
            "[nltk_data] Downloading package punkt to /root/nltk_data...\n",
            "[nltk_data]   Package punkt is already up-to-date!\n",
            "[nltk_data] Downloading package stopwords to /root/nltk_data...\n",
            "[nltk_data]   Package stopwords is already up-to-date!\n"
          ],
          "name": "stdout"
        }
      ]
    },
    {
      "cell_type": "code",
      "metadata": {
        "id": "yNnl5O_sSdmr",
        "colab": {
          "base_uri": "https://localhost:8080/",
          "height": 196
        },
        "outputId": "05f5c6ad-ad67-4b3b-de6b-fc87f3cf5286"
      },
      "source": [
        "df_final.head()"
      ],
      "execution_count": 10,
      "outputs": [
        {
          "output_type": "execute_result",
          "data": {
            "text/html": [
              "<div>\n",
              "<style scoped>\n",
              "    .dataframe tbody tr th:only-of-type {\n",
              "        vertical-align: middle;\n",
              "    }\n",
              "\n",
              "    .dataframe tbody tr th {\n",
              "        vertical-align: top;\n",
              "    }\n",
              "\n",
              "    .dataframe thead th {\n",
              "        text-align: right;\n",
              "    }\n",
              "</style>\n",
              "<table border=\"1\" class=\"dataframe\">\n",
              "  <thead>\n",
              "    <tr style=\"text-align: right;\">\n",
              "      <th></th>\n",
              "      <th>text</th>\n",
              "      <th>type</th>\n",
              "    </tr>\n",
              "  </thead>\n",
              "  <tbody>\n",
              "    <tr>\n",
              "      <th>0</th>\n",
              "      <td>[daniel, greenfield, shillman, journal, fellow...</td>\n",
              "      <td>FAKE</td>\n",
              "    </tr>\n",
              "    <tr>\n",
              "      <th>1</th>\n",
              "      <td>[googl, pinterest, digg, linkedin, reddit, stu...</td>\n",
              "      <td>FAKE</td>\n",
              "    </tr>\n",
              "    <tr>\n",
              "      <th>2</th>\n",
              "      <td>[US, secretari, state, john, kerri, said, mond...</td>\n",
              "      <td>REAL</td>\n",
              "    </tr>\n",
              "    <tr>\n",
              "      <th>3</th>\n",
              "      <td>[kayde, king, kaydeek, novemb, the, lesson, to...</td>\n",
              "      <td>FAKE</td>\n",
              "    </tr>\n",
              "    <tr>\n",
              "      <th>4</th>\n",
              "      <td>[it, primari, day, new, york, frontrunn, hilla...</td>\n",
              "      <td>REAL</td>\n",
              "    </tr>\n",
              "  </tbody>\n",
              "</table>\n",
              "</div>"
            ],
            "text/plain": [
              "                                                text  type\n",
              "0  [daniel, greenfield, shillman, journal, fellow...  FAKE\n",
              "1  [googl, pinterest, digg, linkedin, reddit, stu...  FAKE\n",
              "2  [US, secretari, state, john, kerri, said, mond...  REAL\n",
              "3  [kayde, king, kaydeek, novemb, the, lesson, to...  FAKE\n",
              "4  [it, primari, day, new, york, frontrunn, hilla...  REAL"
            ]
          },
          "metadata": {
            "tags": []
          },
          "execution_count": 10
        }
      ]
    },
    {
      "cell_type": "code",
      "metadata": {
        "id": "DiK8bEDcJhIk"
      },
      "source": [
        "df_final.to_csv('cleaned.csv') # saving to file "
      ],
      "execution_count": null,
      "outputs": []
    },
    {
      "cell_type": "code",
      "metadata": {
        "colab": {
          "base_uri": "https://localhost:8080/"
        },
        "id": "N9FtJgPzh4J7",
        "outputId": "82a3fcb3-1d1d-48c4-faf7-95b9219235cc"
      },
      "source": [
        "!gsutil cp cleaned.csv gs://news_csv/ # saving to bucket"
      ],
      "execution_count": null,
      "outputs": [
        {
          "output_type": "stream",
          "text": [
            "CommandException: No URLs matched: cleaned.csv\n"
          ],
          "name": "stdout"
        }
      ]
    },
    {
      "cell_type": "code",
      "metadata": {
        "colab": {
          "base_uri": "https://localhost:8080/",
          "height": 246
        },
        "id": "0Q55mjUVj9Dd",
        "outputId": "07fe6089-4fb0-436f-fd8b-955461d85506"
      },
      "source": [
        "!gsutil cp gs://news_csv/cleaned.csv /tmp/ # load from bucket\n",
        "df_final = pd.read_csv('/tmp/cleaned.csv') \n",
        "df_final = df_final.sample(frac=1).reset_index(drop=True) # shuffle the data\n",
        "df_final.head()"
      ],
      "execution_count": null,
      "outputs": [
        {
          "output_type": "stream",
          "text": [
            "Copying gs://news_csv/cleaned.csv...\n",
            "| [1 files][159.6 MiB/159.6 MiB]                                                \n",
            "Operation completed over 1 objects/159.6 MiB.                                    \n"
          ],
          "name": "stdout"
        },
        {
          "output_type": "execute_result",
          "data": {
            "text/html": [
              "<div>\n",
              "<style scoped>\n",
              "    .dataframe tbody tr th:only-of-type {\n",
              "        vertical-align: middle;\n",
              "    }\n",
              "\n",
              "    .dataframe tbody tr th {\n",
              "        vertical-align: top;\n",
              "    }\n",
              "\n",
              "    .dataframe thead th {\n",
              "        text-align: right;\n",
              "    }\n",
              "</style>\n",
              "<table border=\"1\" class=\"dataframe\">\n",
              "  <thead>\n",
              "    <tr style=\"text-align: right;\">\n",
              "      <th></th>\n",
              "      <th>Unnamed: 0</th>\n",
              "      <th>text</th>\n",
              "      <th>type</th>\n",
              "    </tr>\n",
              "  </thead>\n",
              "  <tbody>\n",
              "    <tr>\n",
              "      <th>0</th>\n",
              "      <td>9209</td>\n",
              "      <td>['counter', 'coup', 'with', 'counter', 'coup',...</td>\n",
              "      <td>bs</td>\n",
              "    </tr>\n",
              "    <tr>\n",
              "      <th>1</th>\n",
              "      <td>897</td>\n",
              "      <td>['fastaqim', 'posit', 'overrun', 'fighter', 'd...</td>\n",
              "      <td>bs</td>\n",
              "    </tr>\n",
              "    <tr>\n",
              "      <th>2</th>\n",
              "      <td>2431</td>\n",
              "      <td>['russia', 'ha', 'call', 'war', 'parti', 'bluf...</td>\n",
              "      <td>FAKE</td>\n",
              "    </tr>\n",
              "    <tr>\n",
              "      <th>3</th>\n",
              "      <td>2481</td>\n",
              "      <td>['post', 'octob', 'ryan', 'banist', 'project',...</td>\n",
              "      <td>bs</td>\n",
              "    </tr>\n",
              "    <tr>\n",
              "      <th>4</th>\n",
              "      <td>4315</td>\n",
              "      <td>['comment', 'crosstalk', 'US', 'elect', 'crimi...</td>\n",
              "      <td>FAKE</td>\n",
              "    </tr>\n",
              "  </tbody>\n",
              "</table>\n",
              "</div>"
            ],
            "text/plain": [
              "   Unnamed: 0                                               text  type\n",
              "0        9209  ['counter', 'coup', 'with', 'counter', 'coup',...    bs\n",
              "1         897  ['fastaqim', 'posit', 'overrun', 'fighter', 'd...    bs\n",
              "2        2431  ['russia', 'ha', 'call', 'war', 'parti', 'bluf...  FAKE\n",
              "3        2481  ['post', 'octob', 'ryan', 'banist', 'project',...    bs\n",
              "4        4315  ['comment', 'crosstalk', 'US', 'elect', 'crimi...  FAKE"
            ]
          },
          "metadata": {
            "tags": []
          },
          "execution_count": 40
        }
      ]
    },
    {
      "cell_type": "code",
      "metadata": {
        "id": "iGUVcmmKBxWN"
      },
      "source": [
        "# integer encode the documents\n",
        "def create_tokenizer(lines):\n",
        "    tokenizer = Tokenizer(lower=True)\n",
        "    tokenizer.fit_on_texts(lines)\n",
        "    return tokenizer\n",
        "\n",
        "\n",
        "# integer encode and pad documents\n",
        "def encode_docs(tokenizer, max_length, docs):\n",
        "    # integer encode\n",
        "    encoded = tokenizer.texts_to_sequences(docs)\n",
        "    # pad sequences\n",
        "    padded = pad_sequences(encoded, maxlen=max_length, padding='post')\n",
        "    return padded\n",
        "\n",
        "tokenizer = create_tokenizer(df_final['text'].values)\n",
        "vocab_size = len(tokenizer.word_index) + 1\n",
        "# max_length = max([len(d.split()) for d in df_final['text'].values])\n",
        "train_data = encode_docs(tokenizer, 400, df_final['text'].values)"
      ],
      "execution_count": 7,
      "outputs": []
    },
    {
      "cell_type": "markdown",
      "metadata": {
        "id": "nFv1RiJYiIj3"
      },
      "source": [
        "Word Embedding of train data"
      ]
    },
    {
      "cell_type": "code",
      "metadata": {
        "id": "zMZb_MvdAjij",
        "colab": {
          "base_uri": "https://localhost:8080/",
          "height": 318
        },
        "outputId": "25c63618-5579-492d-bc79-8b0075825d20"
      },
      "source": [
        "# plot word embedding vector using scatter plot in 2d using PCA to reduce the dimensions \n",
        "\n",
        "from gensim.models import Word2Vec\n",
        "from sklearn.decomposition import PCA\n",
        "from matplotlib import pyplot\n",
        "# train model\n",
        "model = Word2Vec(df_final['text'].values, min_count=100)\n",
        "# fit a 2d PCA model to the vectors\n",
        "X = model[model.wv.vocab]\n",
        "pca = PCA(n_components=2)\n",
        "result = pca.fit_transform(X)\n",
        "# create a scatter plot of the projection\n",
        "pyplot.scatter(result[:, 0], result[:, 1])\n",
        "words = list(model.wv.vocab)\n",
        "for i, word in enumerate(words):\n",
        "    pyplot.annotate(word, xy=(result[i, 0], result[i, 1]))\n",
        "pyplot.show()"
      ],
      "execution_count": 47,
      "outputs": [
        {
          "output_type": "stream",
          "text": [
            "/usr/local/lib/python3.7/dist-packages/ipykernel_launcher.py:9: DeprecationWarning: Call to deprecated `__getitem__` (Method will be removed in 4.0.0, use self.wv.__getitem__() instead).\n",
            "  if __name__ == '__main__':\n"
          ],
          "name": "stderr"
        },
        {
          "output_type": "display_data",
          "data": {
            "image/png": "[encoded data removed]",
            "text/plain": [
              "<Figure size 432x288 with 1 Axes>"
            ]
          },
          "metadata": {
            "tags": [],
            "needs_background": "light"
          }
        }
      ]
    },
    {
      "cell_type": "code",
      "metadata": {
        "id": "f2xvkqlca6r5",
        "colab": {
          "base_uri": "https://localhost:8080/"
        },
        "outputId": "0fef7053-70a9-41d2-dbb4-6c42da23a9a7"
      },
      "source": [
        "# extract trained model weight files\n",
        "!gsutil cp -r gs://news_csv/glove.twitter.27B/ /tmp/ "
      ],
      "execution_count": 14,
      "outputs": [
        {
          "output_type": "stream",
          "text": [
            "Copying gs://news_csv/glove.twitter.27B/glove.twitter.27B.100d.txt...\n",
            "Copying gs://news_csv/glove.twitter.27B/glove.twitter.27B.200d.txt...\n",
            "Copying gs://news_csv/glove.twitter.27B/glove.twitter.27B.25d.txt...\n",
            "Copying gs://news_csv/glove.twitter.27B/glove.twitter.27B.50d.txt...\n",
            "\\ [4 files][  3.6 GiB/  3.6 GiB]  107.7 MiB/s                                   \n",
            "Operation completed over 4 objects/3.6 GiB.                                      \n"
          ],
          "name": "stdout"
        }
      ]
    },
    {
      "cell_type": "code",
      "metadata": {
        "id": "vp8u8G39AvM6",
        "colab": {
          "base_uri": "https://localhost:8080/"
        },
        "outputId": "089b290a-4d37-4bbf-de94-abf62b4fcbcb"
      },
      "source": [
        "# Load Stanford's GloVe Embedding\n",
        "from gensim.scripts.glove2word2vec import glove2word2vec\n",
        "from gensim.models import KeyedVectors\n",
        "glove_input_file = '/tmp/glove.twitter.27B/glove.twitter.27B.200d.txt'\n",
        "word2vec_output_file = 'glove.twitter.27B.200d.txt.word2vec'\n",
        "glove2word2vec(glove_input_file, word2vec_output_file)\n",
        "# load the converted model\n",
        "# filename = 'glove.twitter.27B.200d.txt.word2vec'\n",
        "# model = KeyedVectors.load_word2vec_format(filename, binary=False)\n",
        "# # calculate: (king - man) + woman = ?\n",
        "# result = model.most_similar(positive=['woman', 'king'], negative=['man'], topn=5)\n",
        "# print(result)"
      ],
      "execution_count": 7,
      "outputs": [
        {
          "output_type": "execute_result",
          "data": {
            "text/plain": [
              "(1193514, 200)"
            ]
          },
          "metadata": {
            "tags": []
          },
          "execution_count": 7
        }
      ]
    },
    {
      "cell_type": "markdown",
      "metadata": {
        "id": "wrBDmay8GllB"
      },
      "source": [
        "We can see above, the woman + king - man = queen. Word Embeddings understand this co-relation between different words. "
      ]
    },
    {
      "cell_type": "code",
      "metadata": {
        "id": "Zo0YkooGKxJe"
      },
      "source": [
        "# load the whole embedding into memory\n",
        "embeddings_index = dict()\n",
        "f = open('glove.twitter.27B.200d.txt.word2vec', mode='rt', encoding='utf-8')\n",
        "for line in f:\n",
        "    values = line.split()\n",
        "    word = values[0]\n",
        "    coefs = asarray(values[1:], dtype='float32')\n",
        "    embeddings_index[word] = coefs\n",
        "f.close()\n",
        "# print('Loaded %s word vectors.' % len(embeddings_index))\n",
        "\n",
        "# It is pretty slow to load weights of all the words from embedding into memory. Instead, \n",
        "# we can load the weights of words that are represent in out text \n",
        "embedding_matrix = zeros((vocab_size, 200))\n",
        "for word, i in tokenizer.word_index.items():\n",
        "    embedding_vector = embeddings_index.get(word[1:-1])\n",
        "    if embedding_vector is not None:\n",
        "        embedding_matrix[i] = embedding_vector\n",
        "        # print(embedding_matrix[i])"
      ],
      "execution_count": 8,
      "outputs": []
    },
    {
      "cell_type": "markdown",
      "metadata": {
        "id": "O9gD2VIUhGLt"
      },
      "source": [
        "##Define Models"
      ]
    },
    {
      "cell_type": "markdown",
      "metadata": {
        "id": "zPQ9WghPhNt9"
      },
      "source": [
        "Model 1:\n",
        "Pre-trained model Embedding + LSTM + Dense"
      ]
    },
    {
      "cell_type": "code",
      "metadata": {
        "id": "YRaKqcuLfQvy"
      },
      "source": [
        "def first_model(vocab_size, max_length, embedding_matrix):\n",
        "    model = Sequential()\n",
        "    # model.add(Embedding(vocab_size, 50, input_length=300))\n",
        "    model.add(Embedding(embedding_matrix.shape[0], 200, weights=[embedding_matrix], input_length=400, trainable=True))\n",
        "    model.add(LSTM(100, return_sequences=True))\n",
        "    model.add(Dropout(0.5))\n",
        "    model.add(LSTM(50))\n",
        "    model.add(Dense(128, activation='relu'))\n",
        "    model.add(Dense(64, activation='relu'))\n",
        "    model.add(Dense(len(df_final.type.unique()), activation='softmax'))\n",
        "    # compile network\n",
        "    model.compile(loss='categorical_crossentropy', optimizer='adam', metrics=['accuracy'])\n",
        "    # summarize defined model\n",
        "    model.summary()\n",
        "    plot_model(model, to_file='model.png', show_shapes=True)\n",
        "    return model"
      ],
      "execution_count": 9,
      "outputs": []
    },
    {
      "cell_type": "markdown",
      "metadata": {
        "id": "zzdmthuvhVkV"
      },
      "source": [
        "Model 2: ResNet50 pre-trained + LSTM + Dense"
      ]
    },
    {
      "cell_type": "code",
      "metadata": {
        "id": "qs1QL2-QBOFz"
      },
      "source": [
        "# def second_model(vocab_size, max_length):\n",
        "#     model = Sequential()\n",
        "#     # model.add(Embedding(vocab_size, 100, input_length=400))\n",
        "#     model.add(ResNet50(include_top=False, weights=embedding_matrix, pooling=None))\n",
        "#     model.add(LSTM(200))\n",
        "#     model.add(Dropout(0.5))\n",
        "#     model.add(Dense(128, activation='relu'))\n",
        "#     model.add(Dense(64, activation='relu'))\n",
        "#     model.add(Dense(len(df_final.type.unique()), activation='softmax'))\n",
        "#     # compile network\n",
        "#     model.compile(loss='categorical_crossentropy', optimizer='adam', metrics=['accuracy'])\n",
        "#     # summarize defined model\n",
        "#     model.summary()\n",
        "#     plot_model(model, to_file='model.png', show_shapes=True)\n",
        "#     return model"
      ],
      "execution_count": null,
      "outputs": []
    },
    {
      "cell_type": "markdown",
      "metadata": {
        "id": "mI9dIsuTkJ_O"
      },
      "source": [
        "Model 3: Hyperparameter tuning with kerastuner and model structure is Embedding with pre-trained twitter.27B.200d + LSTM + Drouput + Dense"
      ]
    },
    {
      "cell_type": "code",
      "metadata": {
        "id": "Lk28HxMNB4fs"
      },
      "source": [
        "# def third_model(hp):\n",
        "\n",
        "#     activation = hp.Choice('activation', ['relu', 'tanh'])\n",
        "#     dropout_rate = hp.Float('dropout_rate', min_value=0.1, max_value=0.9, step=0.2)\n",
        "\n",
        "#     model = Sequential()\n",
        "#     e = Embedding(189412, 200, weights=[embedding_matrix], input_length=400, trainable=True)\n",
        "#     model.add(e)\n",
        "#     # model.add(Flatten())\n",
        "#     hp_units1 = hp.Int('units', min_value=32, max_value=128, step=16)\n",
        "#     model.add(LSTM(units=hp_units1))\n",
        "#     model.add(Dropout(0.5))\n",
        "#     # Choose an optimal value between 32-512\n",
        "#     hp_units = hp.Int('units', min_value=32, max_value=128, step=16)\n",
        "#     model.add(Dense(units=hp_units, activation=activation))\n",
        "#     model.add(Dense(64, activation=activation))\n",
        "#     model.add(Dense(len(df_final.type.unique()), activation='softmax'))\n",
        "\n",
        "#     lr = hp.Choice('learning_rate', [1e-2, 1e-3, 1e-4])\n",
        "#     decay_rate = hp.Choice('decay_rate', [0.90, 0.60, 0.30, 0.10])\n",
        "#     # lr_schedule = tf.keras.optimizers.schedules.ExponentialDecay(initial_learning_rate=lr, decay_rate=decay_rate, decay_steps = tr_decay/tr_data.batch_size, staircase=True)\n",
        "\n",
        "#     # compile the model\n",
        "#     model.compile(optimizer=tf.keras.optimizers.Adam(learning_rate=lr), loss='categorical_crossentropy', metrics=['accuracy'])\n",
        "#     return model\n",
        "\n",
        "\n",
        "# MAX_TRAILS = 30\n",
        "# batch_size = 32\n",
        "# epochs = 10\n",
        "# seed = 40\n",
        "\n",
        "# # change the first parameter according to the network you want to train. \n",
        "# tuner = RandomSearch(third_model,\n",
        "#                      objective='val_accuracy',\n",
        "#                      max_trials=MAX_TRAILS,\n",
        "#                      seed=seed,\n",
        "#                      overwrite=True\n",
        "#                      )\n",
        "\n",
        "# print(\"Search space summary:\\n {}\".format(tuner.search_space_summary()))\n",
        "# print(\"Searching starting >>> started\")\n",
        "\n",
        "# %cd /tmp/\n",
        "# !mkdir -p pre-trained-embedding\n",
        "# dir = '/tmp/pre-trained-embedding/logs/' + datetime.datetime.now().strftime(\"%Y%m%d-%H%M%S\")\n",
        "# stop_early = tf.keras.callbacks.EarlyStopping(monitor='val_loss', patience=5)\n",
        "# X = train_data\n",
        "# # print(X)\n",
        "# Y = pd.get_dummies(df_final['type']).values\n",
        "# tuner.search(X, Y, epochs=epochs, validation_split=0.2, callbacks=[stop_early])\n",
        "\n",
        "# print(\"Results summary:\\n {}\".format(tuner.results_summary()))\n",
        "# print(\"Top 10 best models:\\n {}\".format(tuner.get_best_models(10)))\n",
        "\n",
        "# best_hyperparameters = tuner.get_best_hyperparameters(num_trials = 1)[0]\n",
        "# best_model = tuner.hypermodel.build(best_hyperparameters)\n",
        "\n",
        "# best_model.save('/tmp/kerastuner/model/') # save to tmp\n",
        "# !gsutil cp -r /tmp/kerastuner/model/ gs://news_csv/model # save to bucket \n",
        "# !gsutil cp -r gs://news_csv/model /tmp/ # load from bucket"
      ],
      "execution_count": null,
      "outputs": []
    },
    {
      "cell_type": "code",
      "metadata": {
        "id": "19iujsdCGITz"
      },
      "source": [
        "# Word Embeddings + CNN = Text Classi\fcation\n",
        "\n",
        "# def fourth_model(vocab_size, max_length):\n",
        "# model = Sequential()\n",
        "# model.add(Embedding(vocab_size, 100, input_length=400))\n",
        "# model.add(Conv1D(filters=32, kernel_size=8, activation='relu'))\n",
        "# model.add(MaxPooling1D(pool_size=2))\n",
        "# model.add(Flatten())\n",
        "# model.add(Dense(10, activation='relu'))\n",
        "# model.add(Dense(1, activation='sigmoid'))\n",
        "# # compile network\n",
        "# model.compile(loss='binary_crossentropy', optimizer='adam', metrics=['accuracy'])\n",
        "# # summarize defined model\n",
        "# model.summary()\n",
        "# plot_model(model, to_file='model.png', show_shapes=True)\n",
        "# return model\n",
        "\n",
        "\n",
        "# # n-gram CNN\n",
        "\n",
        "# def fifth_model(length, vocab_size):\n",
        "#     # channel 1\n",
        "#     inputs1 = Input(shape=(400,))\n",
        "#     embedding1 = Embedding(vocab_size, 100)(inputs1)\n",
        "#     conv1 = Conv1D(filters=32, kernel_size=4, activation='relu')(embedding1)\n",
        "#     drop1 = Dropout(0.5)(conv1)\n",
        "#     pool1 = MaxPooling1D(pool_size=2)(drop1)\n",
        "#     flat1 = Flatten()(pool1)\n",
        "#     # channel 2\n",
        "#     inputs2 = Input(shape=(400,))\n",
        "#     embedding2 = Embedding(vocab_size, 100)(inputs2)\n",
        "#     conv2 = Conv1D(filters=32, kernel_size=6, activation='relu')(embedding2)\n",
        "#     drop2 = Dropout(0.5)(conv2)\n",
        "#     pool2 = MaxPooling1D(pool_size=2)(drop2)\n",
        "#     flat2 = Flatten()(pool2)\n",
        "#     # channel 3\n",
        "#     inputs3 = Input(shape=(400,))\n",
        "#     embedding3 = Embedding(vocab_size, 100)(inputs3)\n",
        "#     conv3 = Conv1D(filters=32, kernel_size=8, activation='relu')(embedding3)\n",
        "#     drop3 = Dropout(0.5)(conv3)\n",
        "#     pool3 = MaxPooling1D(pool_size=2)(drop3)\n",
        "#     flat3 = Flatten()(pool3)\n",
        "#     # merge\n",
        "#     merged = concatenate([flat1, flat2, flat3])\n",
        "#     # interpretation\n",
        "#     dense1 = Dense(10, activation='relu')(merged)\n",
        "#     outputs = Dense(1, activation='sigmoid')(dense1)\n",
        "#     model = Model(inputs=[inputs1, inputs2, inputs3], outputs=outputs)\n",
        "#     # compile\n",
        "#     model.compile(loss='binary_crossentropy', optimizer='adam', metrics=['accuracy'])\n",
        "#     # summarize\n",
        "#     model.summary()\n",
        "#     plot_model(model, show_shapes=True, to_file='multichannel.png')\n",
        "#     return model"
      ],
      "execution_count": null,
      "outputs": []
    },
    {
      "cell_type": "markdown",
      "metadata": {
        "id": "NNKLTwGplEYY"
      },
      "source": [
        "Fit the model to data"
      ]
    },
    {
      "cell_type": "code",
      "metadata": {
        "id": "F5EkyreDqkZ4"
      },
      "source": [
        "# Seperate the dataset into train and test\n",
        "\n",
        "X = train_data\n",
        "Y = pd.get_dummies(df_final['type']).values\n",
        "x_train, x_test, y_train, y_test = train_test_split(X, Y, test_size=0.20, random_state=42, shuffle=True)"
      ],
      "execution_count": 10,
      "outputs": []
    },
    {
      "cell_type": "code",
      "metadata": {
        "id": "0oIqs_i7oyFB",
        "colab": {
          "base_uri": "https://localhost:8080/"
        },
        "outputId": "6093fd48-a1d9-4cc4-a4c9-ff645d557674"
      },
      "source": [
        "# fit the model \n",
        "model = first_model(vocab_size, 400, embedding_matrix)\n",
        "# model = load_model('/tmp/model/') # if you want to run third model\n",
        "history = model.fit(x_train, y_train, verbose=1, batch_size=32, epochs=15)\n",
        "\n",
        "!mkdir -p saved_model\n",
        "model.save('saved_model/first_model/')"
      ],
      "execution_count": 11,
      "outputs": [
        {
          "output_type": "stream",
          "text": [
            "Model: \"sequential\"\n",
            "_________________________________________________________________\n",
            "Layer (type)                 Output Shape              Param #   \n",
            "=================================================================\n",
            "embedding (Embedding)        (None, 400, 200)          36939800  \n",
            "_________________________________________________________________\n",
            "lstm (LSTM)                  (None, 400, 100)          120400    \n",
            "_________________________________________________________________\n",
            "dropout (Dropout)            (None, 400, 100)          0         \n",
            "_________________________________________________________________\n",
            "lstm_1 (LSTM)                (None, 50)                30200     \n",
            "_________________________________________________________________\n",
            "dense (Dense)                (None, 128)               6528      \n",
            "_________________________________________________________________\n",
            "dense_1 (Dense)              (None, 64)                8256      \n",
            "_________________________________________________________________\n",
            "dense_2 (Dense)              (None, 2)                 130       \n",
            "=================================================================\n",
            "Total params: 37,105,314\n",
            "Trainable params: 37,105,314\n",
            "Non-trainable params: 0\n",
            "_________________________________________________________________\n",
            "Epoch 1/15\n",
            "803/803 [==============================] - 177s 214ms/step - loss: 0.6035 - accuracy: 0.6437\n",
            "Epoch 2/15\n",
            "803/803 [==============================] - 167s 208ms/step - loss: 0.5281 - accuracy: 0.6980\n",
            "Epoch 3/15\n",
            "803/803 [==============================] - 165s 205ms/step - loss: 0.3219 - accuracy: 0.8601\n",
            "Epoch 4/15\n",
            "803/803 [==============================] - 164s 204ms/step - loss: 0.1828 - accuracy: 0.9325\n",
            "Epoch 5/15\n",
            "803/803 [==============================] - 165s 206ms/step - loss: 0.0851 - accuracy: 0.9737\n",
            "Epoch 6/15\n",
            "803/803 [==============================] - 164s 204ms/step - loss: 0.0453 - accuracy: 0.9876\n",
            "Epoch 7/15\n",
            "803/803 [==============================] - 164s 204ms/step - loss: 0.0291 - accuracy: 0.9931\n",
            "Epoch 8/15\n",
            "803/803 [==============================] - 164s 204ms/step - loss: 0.0246 - accuracy: 0.9933\n",
            "Epoch 9/15\n",
            "803/803 [==============================] - 164s 204ms/step - loss: 0.0147 - accuracy: 0.9964\n",
            "Epoch 10/15\n",
            "803/803 [==============================] - 165s 205ms/step - loss: 0.0117 - accuracy: 0.9977\n",
            "Epoch 11/15\n",
            "803/803 [==============================] - 165s 205ms/step - loss: 0.0098 - accuracy: 0.9978\n",
            "Epoch 12/15\n",
            "803/803 [==============================] - 165s 206ms/step - loss: 0.0099 - accuracy: 0.9969\n",
            "Epoch 13/15\n",
            "803/803 [==============================] - 164s 205ms/step - loss: 0.0065 - accuracy: 0.9982\n",
            "Epoch 14/15\n",
            "803/803 [==============================] - 164s 205ms/step - loss: 0.0060 - accuracy: 0.9985\n",
            "Epoch 15/15\n",
            "803/803 [==============================] - 164s 205ms/step - loss: 0.0055 - accuracy: 0.9983\n"
          ],
          "name": "stdout"
        },
        {
          "output_type": "stream",
          "text": [
            "WARNING:absl:Found untraced functions such as lstm_cell_layer_call_fn, lstm_cell_layer_call_and_return_conditional_losses, lstm_cell_1_layer_call_fn, lstm_cell_1_layer_call_and_return_conditional_losses, lstm_cell_layer_call_fn while saving (showing 5 of 10). These functions will not be directly callable after loading.\n",
            "WARNING:absl:Found untraced functions such as lstm_cell_layer_call_fn, lstm_cell_layer_call_and_return_conditional_losses, lstm_cell_1_layer_call_fn, lstm_cell_1_layer_call_and_return_conditional_losses, lstm_cell_layer_call_fn while saving (showing 5 of 10). These functions will not be directly callable after loading.\n"
          ],
          "name": "stderr"
        },
        {
          "output_type": "stream",
          "text": [
            "INFO:tensorflow:Assets written to: saved_model/first_model/assets\n"
          ],
          "name": "stdout"
        },
        {
          "output_type": "stream",
          "text": [
            "INFO:tensorflow:Assets written to: saved_model/first_model/assets\n"
          ],
          "name": "stderr"
        }
      ]
    },
    {
      "cell_type": "code",
      "metadata": {
        "id": "aaAVepNzAlsy",
        "colab": {
          "base_uri": "https://localhost:8080/",
          "height": 296
        },
        "outputId": "b3463d71-8e56-4f33-c51e-ecfa2c95d8eb"
      },
      "source": [
        "# plot the history of training \n",
        "print(history.history.keys())\n",
        "import matplotlib.pyplot as plt\n",
        "# plt.title('Loss')\n",
        "# plt.plot(history.history['loss'], label='loss')\n",
        "plt.plot(history.history['accuracy'], label='accuracy')\n",
        "plt.legend(['accuracy'], loc='upper left')\n",
        "plt.xlabel(\"epochs\")\n",
        "plt.show()"
      ],
      "execution_count": 12,
      "outputs": [
        {
          "output_type": "stream",
          "text": [
            "dict_keys(['loss', 'accuracy'])\n"
          ],
          "name": "stdout"
        },
        {
          "output_type": "display_data",
          "data": {
            "image/png": "[encoded data removed]",
            "text/plain": [
              "<Figure size 432x288 with 1 Axes>"
            ]
          },
          "metadata": {
            "tags": [],
            "needs_background": "light"
          }
        }
      ]
    },
    {
      "cell_type": "code",
      "metadata": {
        "id": "CXhyVYGNo3hO",
        "colab": {
          "base_uri": "https://localhost:8080/"
        },
        "outputId": "9f45cb58-440d-4311-d767-992c92fc5f27"
      },
      "source": [
        "new_model = load_model('saved_model/first_model/')\n",
        "\n",
        "new_model.summary()\n",
        "\n",
        "loss, acc = new_model.evaluate(x_test, y_test, verbose=1, batch_size=32)\n",
        "print(\"LOSS: {} \\nACC: {}\".format(loss, acc))"
      ],
      "execution_count": 13,
      "outputs": [
        {
          "output_type": "stream",
          "text": [
            "Model: \"sequential\"\n",
            "_________________________________________________________________\n",
            "Layer (type)                 Output Shape              Param #   \n",
            "=================================================================\n",
            "embedding (Embedding)        (None, 400, 200)          36939800  \n",
            "_________________________________________________________________\n",
            "lstm (LSTM)                  (None, 400, 100)          120400    \n",
            "_________________________________________________________________\n",
            "dropout (Dropout)            (None, 400, 100)          0         \n",
            "_________________________________________________________________\n",
            "lstm_1 (LSTM)                (None, 50)                30200     \n",
            "_________________________________________________________________\n",
            "dense (Dense)                (None, 128)               6528      \n",
            "_________________________________________________________________\n",
            "dense_1 (Dense)              (None, 64)                8256      \n",
            "_________________________________________________________________\n",
            "dense_2 (Dense)              (None, 2)                 130       \n",
            "=================================================================\n",
            "Total params: 37,105,314\n",
            "Trainable params: 37,105,314\n",
            "Non-trainable params: 0\n",
            "_________________________________________________________________\n",
            "201/201 [==============================] - 4s 18ms/step - loss: 0.6044 - accuracy: 0.9043\n",
            "LOSS: 0.6044480204582214 \n",
            "ACC: 0.9043166637420654\n"
          ],
          "name": "stdout"
        }
      ]
    },
    {
      "cell_type": "code",
      "metadata": {
        "colab": {
          "base_uri": "https://localhost:8080/"
        },
        "id": "UJrhJDya9mj8",
        "outputId": "4eeb0e0f-1ab4-4505-ae59-d843d4af6eea"
      },
      "source": [
        "# confusion matrix\n",
        "from sklearn.metrics import classification_report, confusion_matrix\n",
        "y_pred = new_model.predict_classes(x_test, batch_size=32, verbose=1)\n",
        "\n",
        "y_hat = np.argmax(y_test, axis=1)\n",
        "print(\"confusion matrix\")\n",
        "print(confusion_matrix(y_hat, y_pred))\n",
        "print(\"0: Fake\\n1: Real\")\n",
        "print(classification_report(y_hat, y_pred, labels=[0,1]))"
      ],
      "execution_count": 14,
      "outputs": [
        {
          "output_type": "stream",
          "text": [
            "/usr/local/lib/python3.7/dist-packages/tensorflow/python/keras/engine/sequential.py:450: UserWarning: `model.predict_classes()` is deprecated and will be removed after 2021-01-01. Please use instead:* `np.argmax(model.predict(x), axis=-1)`,   if your model does multi-class classification   (e.g. if it uses a `softmax` last-layer activation).* `(model.predict(x) > 0.5).astype(\"int32\")`,   if your model does binary classification   (e.g. if it uses a `sigmoid` last-layer activation).\n",
            "  warnings.warn('`model.predict_classes()` is deprecated and '\n"
          ],
          "name": "stderr"
        },
        {
          "output_type": "stream",
          "text": [
            "201/201 [==============================] - 4s 17ms/step\n",
            "confusion matrix\n",
            "[[2746  357]\n",
            " [ 257 3057]]\n",
            "0: Fake\n",
            "1: Real\n",
            "              precision    recall  f1-score   support\n",
            "\n",
            "           0       0.91      0.88      0.90      3103\n",
            "           1       0.90      0.92      0.91      3314\n",
            "\n",
            "    accuracy                           0.90      6417\n",
            "   macro avg       0.90      0.90      0.90      6417\n",
            "weighted avg       0.90      0.90      0.90      6417\n",
            "\n"
          ],
          "name": "stdout"
        }
      ]
    },
    {
      "cell_type": "markdown",
      "metadata": {
        "id": "0l9oon8pEbXf"
      },
      "source": [
        "Using AYLIEN API to download the present news data. It only downloads 10 news at each run, so we have to run it multiple times changing the time range. \n",
        "\n",
        "I looked for most frequent words in the top **1000** rows of dataset and then used those words to extract present news.\n",
        "\n",
        "To extract the Most common words in the text, I used spacy name entity. \n",
        "\n"
      ]
    },
    {
      "cell_type": "code",
      "metadata": {
        "id": "C_Oa2cqzH-KH",
        "colab": {
          "base_uri": "https://localhost:8080/"
        },
        "outputId": "9562eeef-ff7b-453e-b074-1edb587e25c9"
      },
      "source": [
        "# NOTE: to run this cell, first run the df_final variable cell up again as it requres the raw text data.\n",
        "!pip install spacy\n",
        "!python -m spacy download en_core_web_sm\n",
        "import spacy\n",
        "from collections import Counter\n",
        "nlp = spacy.load(\"en_core_web_sm\")\n",
        "count = Counter()\n",
        "for x, value in df_final['text'][:500].iteritems():\n",
        "    doc = nlp(value)\n",
        "    #  if token.label_ is PERSON or token.label_ is NORP or token.label_ is ORG or token.label_ is PRODUCT or token.label_ is LAW\n",
        "    entities = [token.text for token in doc.ents  if token.label_ is \"PERSON\" or token.label_ is \"NORP\" or token.label_ is \"ORG\" or token.label_ is \"PRODUCT\" or token.label_ is \"LAW\"]\n",
        "    count.update(entities)\n",
        "    # print(entities)\n"
      ],
      "execution_count": 16,
      "outputs": [
        {
          "output_type": "stream",
          "text": [
            "Requirement already satisfied: spacy in /usr/local/lib/python3.7/dist-packages (2.2.4)\n",
            "Requirement already satisfied: catalogue<1.1.0,>=0.0.7 in /usr/local/lib/python3.7/dist-packages (from spacy) (1.0.0)\n",
            "Requirement already satisfied: setuptools in /usr/local/lib/python3.7/dist-packages (from spacy) (54.2.0)\n",
            "Requirement already satisfied: requests<3.0.0,>=2.13.0 in /usr/local/lib/python3.7/dist-packages (from spacy) (2.23.0)\n",
            "Requirement already satisfied: blis<0.5.0,>=0.4.0 in /usr/local/lib/python3.7/dist-packages (from spacy) (0.4.1)\n",
            "Requirement already satisfied: srsly<1.1.0,>=1.0.2 in /usr/local/lib/python3.7/dist-packages (from spacy) (1.0.5)\n",
            "Requirement already satisfied: numpy>=1.15.0 in /usr/local/lib/python3.7/dist-packages (from spacy) (1.19.5)\n",
            "Requirement already satisfied: preshed<3.1.0,>=3.0.2 in /usr/local/lib/python3.7/dist-packages (from spacy) (3.0.5)\n",
            "Requirement already satisfied: murmurhash<1.1.0,>=0.28.0 in /usr/local/lib/python3.7/dist-packages (from spacy) (1.0.5)\n",
            "Requirement already satisfied: wasabi<1.1.0,>=0.4.0 in /usr/local/lib/python3.7/dist-packages (from spacy) (0.8.2)\n",
            "Requirement already satisfied: tqdm<5.0.0,>=4.38.0 in /usr/local/lib/python3.7/dist-packages (from spacy) (4.41.1)\n",
            "Requirement already satisfied: thinc==7.4.0 in /usr/local/lib/python3.7/dist-packages (from spacy) (7.4.0)\n",
            "Requirement already satisfied: plac<1.2.0,>=0.9.6 in /usr/local/lib/python3.7/dist-packages (from spacy) (1.1.3)\n",
            "Requirement already satisfied: cymem<2.1.0,>=2.0.2 in /usr/local/lib/python3.7/dist-packages (from spacy) (2.0.5)\n",
            "Requirement already satisfied: importlib-metadata>=0.20; python_version < \"3.8\" in /usr/local/lib/python3.7/dist-packages (from catalogue<1.1.0,>=0.0.7->spacy) (3.10.1)\n",
            "Requirement already satisfied: chardet<4,>=3.0.2 in /usr/local/lib/python3.7/dist-packages (from requests<3.0.0,>=2.13.0->spacy) (3.0.4)\n",
            "Requirement already satisfied: urllib3!=1.25.0,!=1.25.1,<1.26,>=1.21.1 in /usr/local/lib/python3.7/dist-packages (from requests<3.0.0,>=2.13.0->spacy) (1.24.3)\n",
            "Requirement already satisfied: certifi>=2017.4.17 in /usr/local/lib/python3.7/dist-packages (from requests<3.0.0,>=2.13.0->spacy) (2020.12.5)\n",
            "Requirement already satisfied: idna<3,>=2.5 in /usr/local/lib/python3.7/dist-packages (from requests<3.0.0,>=2.13.0->spacy) (2.10)\n",
            "Requirement already satisfied: typing-extensions>=3.6.4; python_version < \"3.8\" in /usr/local/lib/python3.7/dist-packages (from importlib-metadata>=0.20; python_version < \"3.8\"->catalogue<1.1.0,>=0.0.7->spacy) (3.7.4.3)\n",
            "Requirement already satisfied: zipp>=0.5 in /usr/local/lib/python3.7/dist-packages (from importlib-metadata>=0.20; python_version < \"3.8\"->catalogue<1.1.0,>=0.0.7->spacy) (3.4.1)\n",
            "Requirement already satisfied: en_core_web_sm==2.2.5 from https://github.com/explosion/spacy-models/releases/download/en_core_web_sm-2.2.5/en_core_web_sm-2.2.5.tar.gz#egg=en_core_web_sm==2.2.5 in /usr/local/lib/python3.7/dist-packages (2.2.5)\n",
            "Requirement already satisfied: spacy>=2.2.2 in /usr/local/lib/python3.7/dist-packages (from en_core_web_sm==2.2.5) (2.2.4)\n",
            "Requirement already satisfied: murmurhash<1.1.0,>=0.28.0 in /usr/local/lib/python3.7/dist-packages (from spacy>=2.2.2->en_core_web_sm==2.2.5) (1.0.5)\n",
            "Requirement already satisfied: setuptools in /usr/local/lib/python3.7/dist-packages (from spacy>=2.2.2->en_core_web_sm==2.2.5) (54.2.0)\n",
            "Requirement already satisfied: srsly<1.1.0,>=1.0.2 in /usr/local/lib/python3.7/dist-packages (from spacy>=2.2.2->en_core_web_sm==2.2.5) (1.0.5)\n",
            "Requirement already satisfied: cymem<2.1.0,>=2.0.2 in /usr/local/lib/python3.7/dist-packages (from spacy>=2.2.2->en_core_web_sm==2.2.5) (2.0.5)\n",
            "Requirement already satisfied: preshed<3.1.0,>=3.0.2 in /usr/local/lib/python3.7/dist-packages (from spacy>=2.2.2->en_core_web_sm==2.2.5) (3.0.5)\n",
            "Requirement already satisfied: tqdm<5.0.0,>=4.38.0 in /usr/local/lib/python3.7/dist-packages (from spacy>=2.2.2->en_core_web_sm==2.2.5) (4.41.1)\n",
            "Requirement already satisfied: blis<0.5.0,>=0.4.0 in /usr/local/lib/python3.7/dist-packages (from spacy>=2.2.2->en_core_web_sm==2.2.5) (0.4.1)\n",
            "Requirement already satisfied: wasabi<1.1.0,>=0.4.0 in /usr/local/lib/python3.7/dist-packages (from spacy>=2.2.2->en_core_web_sm==2.2.5) (0.8.2)\n",
            "Requirement already satisfied: requests<3.0.0,>=2.13.0 in /usr/local/lib/python3.7/dist-packages (from spacy>=2.2.2->en_core_web_sm==2.2.5) (2.23.0)\n",
            "Requirement already satisfied: catalogue<1.1.0,>=0.0.7 in /usr/local/lib/python3.7/dist-packages (from spacy>=2.2.2->en_core_web_sm==2.2.5) (1.0.0)\n",
            "Requirement already satisfied: numpy>=1.15.0 in /usr/local/lib/python3.7/dist-packages (from spacy>=2.2.2->en_core_web_sm==2.2.5) (1.19.5)\n",
            "Requirement already satisfied: thinc==7.4.0 in /usr/local/lib/python3.7/dist-packages (from spacy>=2.2.2->en_core_web_sm==2.2.5) (7.4.0)\n",
            "Requirement already satisfied: plac<1.2.0,>=0.9.6 in /usr/local/lib/python3.7/dist-packages (from spacy>=2.2.2->en_core_web_sm==2.2.5) (1.1.3)\n",
            "Requirement already satisfied: certifi>=2017.4.17 in /usr/local/lib/python3.7/dist-packages (from requests<3.0.0,>=2.13.0->spacy>=2.2.2->en_core_web_sm==2.2.5) (2020.12.5)\n",
            "Requirement already satisfied: urllib3!=1.25.0,!=1.25.1,<1.26,>=1.21.1 in /usr/local/lib/python3.7/dist-packages (from requests<3.0.0,>=2.13.0->spacy>=2.2.2->en_core_web_sm==2.2.5) (1.24.3)\n",
            "Requirement already satisfied: chardet<4,>=3.0.2 in /usr/local/lib/python3.7/dist-packages (from requests<3.0.0,>=2.13.0->spacy>=2.2.2->en_core_web_sm==2.2.5) (3.0.4)\n",
            "Requirement already satisfied: idna<3,>=2.5 in /usr/local/lib/python3.7/dist-packages (from requests<3.0.0,>=2.13.0->spacy>=2.2.2->en_core_web_sm==2.2.5) (2.10)\n",
            "Requirement already satisfied: importlib-metadata>=0.20; python_version < \"3.8\" in /usr/local/lib/python3.7/dist-packages (from catalogue<1.1.0,>=0.0.7->spacy>=2.2.2->en_core_web_sm==2.2.5) (3.10.1)\n",
            "Requirement already satisfied: typing-extensions>=3.6.4; python_version < \"3.8\" in /usr/local/lib/python3.7/dist-packages (from importlib-metadata>=0.20; python_version < \"3.8\"->catalogue<1.1.0,>=0.0.7->spacy>=2.2.2->en_core_web_sm==2.2.5) (3.7.4.3)\n",
            "Requirement already satisfied: zipp>=0.5 in /usr/local/lib/python3.7/dist-packages (from importlib-metadata>=0.20; python_version < \"3.8\"->catalogue<1.1.0,>=0.0.7->spacy>=2.2.2->en_core_web_sm==2.2.5) (3.4.1)\n",
            "\u001b[38;5;2m✔ Download and installation successful\u001b[0m\n",
            "You can now load the model via spacy.load('en_core_web_sm')\n"
          ],
          "name": "stdout"
        }
      ]
    },
    {
      "cell_type": "code",
      "metadata": {
        "colab": {
          "base_uri": "https://localhost:8080/"
        },
        "id": "29O2asvVIneH",
        "outputId": "56bc0804-0451-4ee8-94ec-7d411a4f7a5e"
      },
      "source": [
        "count.most_common()"
      ],
      "execution_count": 17,
      "outputs": [
        {
          "output_type": "execute_result",
          "data": {
            "text/plain": [
              "[('Trump', 1256),\n",
              " ('Clinton', 1144),\n",
              " ('Republican', 404),\n",
              " ('Donald Trump', 366),\n",
              " ('Hillary Clinton', 353),\n",
              " ('Republicans', 320),\n",
              " ('American', 287),\n",
              " ('Democrats', 280),\n",
              " ('Obama', 280),\n",
              " ('Americans', 264),\n",
              " ('FBI', 246),\n",
              " ('Democratic', 240),\n",
              " ('ISIS', 239),\n",
              " ('Sanders', 233),\n",
              " ('Congress', 222),\n",
              " ('GOP', 211),\n",
              " ('Hillary', 193),\n",
              " ('Senate', 180),\n",
              " ('Cruz', 174),\n",
              " ('Lesley Stahl', 144),\n",
              " ('Bush', 135),\n",
              " ('House', 134),\n",
              " ('CNN', 123),\n",
              " ('Rubio', 95),\n",
              " ('Russian', 94),\n",
              " ('Fox News', 84),\n",
              " ('Syrian', 80),\n",
              " ('Comey', 78),\n",
              " ('the White House', 77),\n",
              " ('White House', 77),\n",
              " ('Democrat', 75),\n",
              " ('Ryan', 69),\n",
              " ('Bernie Sanders', 69),\n",
              " ('Islamic', 64),\n",
              " ('State', 63),\n",
              " ('Barack Obama', 63),\n",
              " ('Iraqi', 62),\n",
              " ('French', 61),\n",
              " ('Facebook', 61),\n",
              " ('the State Department', 60),\n",
              " ('Clintons', 59),\n",
              " ('Bill Clinton', 57),\n",
              " ('Ted Cruz', 56),\n",
              " ('Obamacare', 56),\n",
              " ('Muslim', 55),\n",
              " ('Putin', 50),\n",
              " ('Christians', 48),\n",
              " ('Jeb Bush', 48),\n",
              " ('the Supreme Court', 45),\n",
              " ('Iranian', 44),\n",
              " ('Muslims', 44),\n",
              " ('Paul', 44),\n",
              " ('Christie', 44),\n",
              " ('Kurdish', 43),\n",
              " ('DNC', 42),\n",
              " ('Kasich', 42),\n",
              " ('CIA', 42),\n",
              " ('Johnson', 42),\n",
              " ('TPP', 41),\n",
              " ('the Republican Party', 40),\n",
              " ('Carson', 40),\n",
              " ('the Clinton Foundation', 39),\n",
              " ('Scalia', 39),\n",
              " ('Christian', 38),\n",
              " ('Kennedy', 38),\n",
              " ('Israeli', 37),\n",
              " ('Hispanic', 37),\n",
              " ('Marco Rubio', 36),\n",
              " ('Netanyahu', 36),\n",
              " ('Islam', 33),\n",
              " ('Paul Ryan', 33),\n",
              " ('State Department', 32),\n",
              " ('British', 32),\n",
              " ('Kerry', 31),\n",
              " ('NBC', 30),\n",
              " ('Jews', 30),\n",
              " ('Trump University', 30),\n",
              " ('NSA', 30),\n",
              " ('Pentagon', 30),\n",
              " ('Davis', 30),\n",
              " ('Jewish', 29),\n",
              " ('George W. Bush', 29),\n",
              " ('Biden', 29),\n",
              " ('Benghazi', 29),\n",
              " ('McCarthy', 29),\n",
              " ('UN', 28),\n",
              " ('Wilson', 28),\n",
              " ('McConnell', 27),\n",
              " ('EPA', 27),\n",
              " ('Mitt Romney', 27),\n",
              " ('Brown', 27),\n",
              " ('MSNBC', 26),\n",
              " ('Western', 26),\n",
              " ('Mateen', 26),\n",
              " ('European', 25),\n",
              " ('EU', 25),\n",
              " ('Saudi', 25),\n",
              " ('Lynch', 24),\n",
              " ('Palestinians', 24),\n",
              " ('James Comey', 23),\n",
              " ('John Kasich', 23),\n",
              " ('German', 23),\n",
              " ('AP', 23),\n",
              " ('Palestinian', 23),\n",
              " ('we\\x92re', 23),\n",
              " ('Social Security', 22),\n",
              " ('Donald', 22),\n",
              " ('Supreme Court', 22),\n",
              " ('Constitution', 22),\n",
              " ('Post', 22),\n",
              " ('Kirby', 22),\n",
              " ('Vladimir Putin', 21),\n",
              " ('The Associated Press', 21),\n",
              " ('Mexican', 21),\n",
              " ('Charlie Hebdo', 21),\n",
              " ('Chris Christie', 21),\n",
              " ('David Duke', 21),\n",
              " ('Army', 21),\n",
              " ('The New York Times', 20),\n",
              " ('Bernie', 20),\n",
              " ('The Washington Post', 20),\n",
              " ('Hispanics', 20),\n",
              " ('Ben Carson', 20),\n",
              " ('Al Qaeda', 20),\n",
              " ('AT&T', 20),\n",
              " ('the Democratic Party', 19),\n",
              " (\"Hillary Clinton's\", 19),\n",
              " ('Belgian', 19),\n",
              " ('Assad', 19),\n",
              " ('John Kerry', 18),\n",
              " ('Mitchell', 18),\n",
              " ('Joe Biden', 18),\n",
              " ('Loretta Lynch', 18),\n",
              " ('NATO', 18),\n",
              " ('John Boehner', 18),\n",
              " ('the New York Times', 18),\n",
              " ('Jeb', 18),\n",
              " ('Catholic', 18),\n",
              " ('WikiLeaks', 17),\n",
              " ('Iranians', 17),\n",
              " ('the Associated Press', 17),\n",
              " ('Capitol Hill', 17),\n",
              " ('Rand Paul', 17),\n",
              " ('Elizabeth Warren', 17),\n",
              " ('Anthony Weiner', 17),\n",
              " ('it\\x92s', 17),\n",
              " ('Fed', 17),\n",
              " ('Chinese', 17),\n",
              " ('John Podesta', 17),\n",
              " ('Fiorina', 17),\n",
              " ('Saturn', 17),\n",
              " ('Harris', 17),\n",
              " ('CDC', 17),\n",
              " ('Huma Abedin', 16),\n",
              " ('Tim Kaine', 16),\n",
              " ('Mitch McConnell', 16),\n",
              " ('Turkish', 16),\n",
              " ('Sunni', 16),\n",
              " ('Nazi', 16),\n",
              " ('African Americans', 16),\n",
              " ('African-American', 16),\n",
              " ('conservatives', 16),\n",
              " ('Yazidis', 16),\n",
              " ('BBC', 16),\n",
              " ('Russians', 16),\n",
              " ('Michelle Obama', 16),\n",
              " ('Abedin', 16),\n",
              " ('Matt', 16),\n",
              " ('BlackBerry', 16),\n",
              " ('Reuters', 15),\n",
              " ('Nazis', 15),\n",
              " ('Cuban', 15),\n",
              " ('Arab', 15),\n",
              " ('ObamaCare', 15),\n",
              " ('IRS', 15),\n",
              " ('Times', 14),\n",
              " ('John McCain', 14),\n",
              " ('Weiner', 14),\n",
              " ('Wikileaks', 14),\n",
              " ('Boehner', 14),\n",
              " ('Ferguson', 14),\n",
              " ('Jackson', 14),\n",
              " ('Francis', 14),\n",
              " ('the Patriot Act', 14),\n",
              " ('Lewis', 14),\n",
              " ('McCain', 14),\n",
              " ('U.N.', 13),\n",
              " ('Ernst', 13),\n",
              " ('Egyptian', 13),\n",
              " ('Romney', 13),\n",
              " ('Hamas', 13),\n",
              " ('the Justice Department', 13),\n",
              " ('Islamist', 13),\n",
              " ('Syrians', 13),\n",
              " ('ISIL', 13),\n",
              " ('the Washington Post', 13),\n",
              " ('Adams', 13),\n",
              " ('Walker', 13),\n",
              " ('Australian', 13),\n",
              " ('Google', 12),\n",
              " ('the Democratic National Convention', 12),\n",
              " ('Reagan', 12),\n",
              " ('Ayotte', 12),\n",
              " ('the Wall Street Journal', 12),\n",
              " ('Twitter', 12),\n",
              " ('Asian', 12),\n",
              " ('Judicial Watch', 12),\n",
              " ('Yazidi', 12),\n",
              " ('Kurds', 12),\n",
              " ('Shiite', 12),\n",
              " ('Giuliani', 12),\n",
              " ('Latin American', 12),\n",
              " ('Bill', 11),\n",
              " ('Shaheen', 11),\n",
              " ('Catholics', 11),\n",
              " ('the European Union', 11),\n",
              " ('Hitler', 11),\n",
              " ('Democratic Party', 11),\n",
              " ('African American', 11),\n",
              " ('Kobani', 11),\n",
              " ('Planned Parenthood', 11),\n",
              " ('NASA', 11),\n",
              " ('The Post', 11),\n",
              " ('NPR', 11),\n",
              " ('Duke', 11),\n",
              " ('Washington Post', 11),\n",
              " ('Shia', 11),\n",
              " ('Maloney', 11),\n",
              " ('Thompson', 11),\n",
              " ('Cubs', 11),\n",
              " ('American Express', 11),\n",
              " ('NFZ', 11),\n",
              " ('Hollande', 10),\n",
              " ('Indian', 10),\n",
              " ('New York Times', 10),\n",
              " ('Stein', 10),\n",
              " ('Navy', 10),\n",
              " ('NBC News', 10),\n",
              " ('Nancy Pelosi', 10),\n",
              " ('Warren', 10),\n",
              " ('Christianity', 10),\n",
              " ('Charlie', 10),\n",
              " ('CBS', 10),\n",
              " ('Perry', 10),\n",
              " ('Aleppo', 10),\n",
              " ('Kaine', 10),\n",
              " ('Vox', 10),\n",
              " ('Conway', 10),\n",
              " ('the Federal Reserve', 10),\n",
              " ('Mike Pence', 10),\n",
              " ('UNHRC', 10),\n",
              " ('Boeing', 10),\n",
              " ('Nato', 10),\n",
              " ('Pope Francis', 10),\n",
              " ('Mark Ruffalo', 10),\n",
              " ('Koch', 10),\n",
              " ('Hillary Rodham Clinton', 9),\n",
              " ('DOJ', 9),\n",
              " ('Yale', 9),\n",
              " ('Medicare', 9),\n",
              " ('YouTube', 9),\n",
              " ('Pew', 9),\n",
              " ('Mike Huckabee', 9),\n",
              " ('PAC', 9),\n",
              " ('Treasury', 9),\n",
              " ('Gingrich', 9),\n",
              " ('the Second Amendment', 9),\n",
              " (\"Donald Trump's\", 9),\n",
              " ('Haitian', 9),\n",
              " ('Texas Hispanics', 9),\n",
              " ('Germans', 9),\n",
              " ('Israelis', 9),\n",
              " ('Al Gore', 9),\n",
              " ('Michael Moore', 9),\n",
              " ('Libertarian', 9),\n",
              " ('Pence', 9),\n",
              " ('McMullin', 9),\n",
              " ('John Kirby', 9),\n",
              " ('Canadian', 9),\n",
              " ('Marines', 9),\n",
              " ('RFRA', 9),\n",
              " ('HRC', 9),\n",
              " ('Hookem', 9),\n",
              " ('Wall Street Journal', 9),\n",
              " ('F.B.I.', 9),\n",
              " ('PTI', 9),\n",
              " ('Sullivan', 9),\n",
              " ('DAPL', 9),\n",
              " ('Walmart', 9),\n",
              " ('Williams', 9),\n",
              " ('Richard Nixon', 8),\n",
              " ('the United Nations', 8),\n",
              " ('Newt Gingrich', 8),\n",
              " ('the Oval Office', 8),\n",
              " ('ABC', 8),\n",
              " ('RNC', 8),\n",
              " ('Jaish al-Fatah', 8),\n",
              " ('Instagram', 8),\n",
              " ('Universe', 8),\n",
              " ('Afghan', 8),\n",
              " ('Amy Moreno', 8),\n",
              " ('Tea Party', 8),\n",
              " ('Muhammad', 8),\n",
              " ('NET', 8),\n",
              " ('Eric Holder', 8),\n",
              " ('Malloy', 8),\n",
              " ('Medicaid', 8),\n",
              " ('Selma', 8),\n",
              " ('Jay Carney', 8),\n",
              " ('Kremlin', 8),\n",
              " ('Robby Mook', 8),\n",
              " ('Politico', 8),\n",
              " ('George Soros', 8),\n",
              " ('LIZ THE SHIZ', 8),\n",
              " ('Amazon', 8),\n",
              " ('the Trans-Pacific Partnership', 8),\n",
              " ('Smith', 8),\n",
              " ('Roof', 8),\n",
              " ('Clinton Foundation', 8),\n",
              " ('Zervos', 8),\n",
              " ('Goldman Sachs', 8),\n",
              " ('Chomsky', 8),\n",
              " ('Ukrainian', 8),\n",
              " ('Eric Trump', 8),\n",
              " ('Salon', 8),\n",
              " ('Benjamin Netanyahu', 7),\n",
              " ('Dems', 7),\n",
              " ('Ronald Reagan', 7),\n",
              " ('the Affordable Care Act', 7),\n",
              " ('Corker', 7),\n",
              " ('VT', 7),\n",
              " ('Taliban', 7),\n",
              " ('Geller', 7),\n",
              " ('the Islamic State', 7),\n",
              " ('Harvard', 7),\n",
              " ('Latino', 7),\n",
              " ('Stevens', 7),\n",
              " ('Michael Brown', 7),\n",
              " ('Frank', 7),\n",
              " ('Amy', 7),\n",
              " ('Huckabee', 7),\n",
              " ('African', 7),\n",
              " ('Antonin Scalia', 7),\n",
              " ('the Department of Justice', 7),\n",
              " ('the Democratic National Committee', 7),\n",
              " ('Howard Kurtz', 7),\n",
              " ('Latinos', 7),\n",
              " ('Buffett', 7),\n",
              " ('Sweat', 7),\n",
              " ('UKIP', 7),\n",
              " ('Coulibaly', 7),\n",
              " ('Wren', 7),\n",
              " ('Journal', 7),\n",
              " ('Tony Podesta', 7),\n",
              " ('that\\x92s', 7),\n",
              " ('I\\x92m', 7),\n",
              " ('The State Department', 7),\n",
              " ('Himmler', 7),\n",
              " ('Ramos', 7),\n",
              " ('Liu', 7),\n",
              " ('Mills', 7),\n",
              " ('Powell', 7),\n",
              " ('Kim Davis', 7),\n",
              " ('CRE', 7),\n",
              " ('Harry Reid', 6),\n",
              " ('Jill Stein', 6),\n",
              " ('Maliki', 6),\n",
              " ('Southern', 6),\n",
              " ('Soros', 6),\n",
              " ('Hindu', 6),\n",
              " ('Associated Press', 6),\n",
              " ('Neera Tanden', 6),\n",
              " ('Lincoln', 6),\n",
              " ('the Tea Party', 6),\n",
              " ('POTUS', 6),\n",
              " ('Italian', 6),\n",
              " ('Nutter', 6),\n",
              " ('Zionist', 6),\n",
              " ('the House of Representatives', 6),\n",
              " ('David', 6),\n",
              " ('Osama bin Laden', 6),\n",
              " ('Ramadi', 6),\n",
              " ('Obama Administration', 6),\n",
              " ('Bloomberg', 6),\n",
              " ('Jesus', 6),\n",
              " ('Mair', 6),\n",
              " ('Sarah Palin', 6),\n",
              " ('Pravda', 6),\n",
              " ('Andrew Bradford', 6),\n",
              " ('Europeans', 6),\n",
              " ('Iowans', 6),\n",
              " ('Raymond Chow', 6),\n",
              " ('African-Americans', 6),\n",
              " ('Justice Department', 6),\n",
              " ('Cassini', 6),\n",
              " ('Sharma-Mistry', 6),\n",
              " ('ABC News', 6),\n",
              " ('The Daily Sheeple', 6),\n",
              " ('Greek', 6),\n",
              " ('Young', 6),\n",
              " ('Islamic State', 6),\n",
              " ('Citizens United', 6),\n",
              " (\"Fox News'\", 6),\n",
              " ('Hill', 6),\n",
              " ('Woolfe', 6),\n",
              " ('The Huffington Post', 6),\n",
              " ('Brain Force', 6),\n",
              " ('Infowars Life', 6),\n",
              " ('Schmidt', 6),\n",
              " ('Sexton', 6),\n",
              " ('the Freedom Caucus', 6),\n",
              " ('Silverman', 6),\n",
              " ('IAEA', 6),\n",
              " ('Gallup', 6),\n",
              " ('he\\x92s', 6),\n",
              " ('I\\x92ll', 6),\n",
              " ('Jesse Jackson', 6),\n",
              " ('New Yorkers', 6),\n",
              " ('Coulter', 6),\n",
              " ('D', 6),\n",
              " ('Haitians', 6),\n",
              " ('Pagliano', 6),\n",
              " ('SWAT', 6),\n",
              " ('USM', 6),\n",
              " ('Time', 5),\n",
              " ('Anthony Weiner’s', 5),\n",
              " ('Matt Lauer', 5),\n",
              " ('VA', 5),\n",
              " ('Apple', 5),\n",
              " ('Alex Jones', 5),\n",
              " ('the Senate Foreign Relations Committee', 5),\n",
              " ('anti-Muslim', 5),\n",
              " ('R-Ky.', 5),\n",
              " ('Inferno', 5),\n",
              " ('Malthus', 5),\n",
              " ('jihadists', 5),\n",
              " ('the Pew Research Center', 5),\n",
              " ('Jake Sullivan', 5),\n",
              " ('R-Fla', 5),\n",
              " ('Rick Santorum', 5),\n",
              " ('Federal Reserve', 5),\n",
              " ('Saddam Hussein', 5),\n",
              " ('Mark Zuckerberg', 5),\n",
              " ('Rick Perry', 5),\n",
              " ('Graham', 5),\n",
              " ('Eric Garner', 5),\n",
              " ('Debbie Wasserman Schultz', 5),\n",
              " ('Wasserman Schultz', 5),\n",
              " ('Jarrett', 5),\n",
              " ('Smoke', 5),\n",
              " ('Japanese', 5),\n",
              " ('Iraqis', 5),\n",
              " ('King', 5),\n",
              " ('Rudy Giuliani', 5),\n",
              " (\"Martin O'Malley\", 5),\n",
              " ('Sgt', 5),\n",
              " ('Susan Rice', 5),\n",
              " ('Weaver', 5),\n",
              " ('Fallon', 5),\n",
              " ('the Department of Homeland Security', 5),\n",
              " ('Conservatives', 5),\n",
              " ('Weld', 5),\n",
              " ('Charles Krauthammer', 5),\n",
              " ('Indians', 5),\n",
              " ('Lopez-Sanchez', 5),\n",
              " ('CBD', 5),\n",
              " ('Jake Tapper', 5),\n",
              " ('The Wall Street Journal', 5),\n",
              " ('William Lutz', 5),\n",
              " ('Jace Tate', 5),\n",
              " ('Defense', 5),\n",
              " ('the Clean Air Act', 5),\n",
              " ('FCIC', 5),\n",
              " ('Voyager', 5),\n",
              " ('Sun', 5),\n",
              " ('Melania', 5),\n",
              " ('DEA', 5),\n",
              " ('Merkley', 5),\n",
              " ('Scott Walker', 5),\n",
              " ('Julian Assange', 5),\n",
              " ('the Chicago Tribune', 5),\n",
              " ('Verviers', 5),\n",
              " ('http://www.infowars.com/wp-content/uploads/2015/10/brainforce-25-200-e1476824046577.jpg http://www.infowarsstore.com/health-and-wellness/infowars-life/brain-force.html?ims=tzrwu&utm_campaign=Infowars+Placement&utm_source=Infowars.com&utm_medium=Widget&utm_content=Brain+Force http://www.infowarsstore.com/health-and-wellness/infowars-life/brain-force.html?ims=tzrwu&utm_campaign=Infowars+Placement&utm_source=Infowars.com&utm_medium=Widget&utm_content=Brain+Force Brain Force',\n",
              "  5),\n",
              " ('Flip', 5),\n",
              " ('Truss', 5),\n",
              " ('Kevin McCarthy', 5),\n",
              " ('Garten', 5),\n",
              " ('Goldman', 5),\n",
              " ('Orrin Hatch', 5),\n",
              " ('Jeff Sessions', 5),\n",
              " ('Chris Wallace', 5),\n",
              " ('Roger Waters', 5),\n",
              " ('we\\x92ve', 5),\n",
              " ('Ivanka', 5),\n",
              " ('Lindsey Graham', 5),\n",
              " ('Ruffalo', 5),\n",
              " ('SS', 5),\n",
              " ('Dougherty', 5),\n",
              " ('Dodgers', 5),\n",
              " ('O’Brien', 5),\n",
              " ('Jennifer Palmieri', 5),\n",
              " ('Gillard', 5),\n",
              " ('LCWR', 5),\n",
              " ('Native American', 5),\n",
              " ('Bashar al-Assad', 5),\n",
              " ('Palin', 5),\n",
              " ('Bismarck', 5),\n",
              " ('Nike', 5),\n",
              " ('FEMA', 5),\n",
              " ('Bob', 5),\n",
              " ('the Hatch Act', 4),\n",
              " ('Narendra Modi', 4),\n",
              " ('Westerners', 4),\n",
              " ('Baylee', 4),\n",
              " ('Chris Matthews', 4),\n",
              " ('Condoleezza Rice', 4),\n",
              " ('Nixon', 4),\n",
              " ('the Veterans Administration', 4),\n",
              " ('Chelsea Clinton', 4),\n",
              " ('GalacticConnection.com', 4),\n",
              " ('Kelly Ayotte', 4),\n",
              " ('Angela Merkel', 4),\n",
              " ('Susan Collins', 4),\n",
              " ('the AFL-CIO', 4),\n",
              " ('The White House', 4),\n",
              " ('the Republican National Convention', 4),\n",
              " ('the Rules Committee', 4),\n",
              " ('Mark Kirk', 4),\n",
              " ('Paul Manafort', 4),\n",
              " ('Donald J. Trump', 4),\n",
              " ('the Trump Movement', 4),\n",
              " ('Liberal Media Bias', 4),\n",
              " ('CoT', 4),\n",
              " ('Pew Research Center', 4),\n",
              " ('the Standing Rock Sioux Tribe', 4),\n",
              " ('state', 4),\n",
              " ('the Senate Judiciary Committee', 4),\n",
              " ('Zuckerberg', 4),\n",
              " ('the First Amendment', 4),\n",
              " ('USA TODAY', 4),\n",
              " ('Peter King', 4),\n",
              " ('Guardian', 4),\n",
              " ('Spanish', 4),\n",
              " ('Texan', 4),\n",
              " ('Democratic National Committee', 4),\n",
              " ('Labor', 4),\n",
              " ('Perez', 4),\n",
              " ('Mexicans', 4),\n",
              " ('MIT', 4),\n",
              " ('Jim Comey', 4),\n",
              " ('Matthew', 4),\n",
              " ('Okie-Doke', 4),\n",
              " ('ACLU', 4),\n",
              " ('Netflix', 4),\n",
              " ('North Korean', 4),\n",
              " ('George', 4),\n",
              " ('the Obama Administration', 4),\n",
              " ('Energy', 4),\n",
              " ('CBS News', 4),\n",
              " ('The Supreme Court', 4),\n",
              " ('the USA Freedom Act', 4),\n",
              " ('Tye', 4),\n",
              " ('Yahoo', 4),\n",
              " ('the National Security Agency', 4),\n",
              " ('Catherine Herridge', 4),\n",
              " ('Hunter', 4),\n",
              " ('Anderson Cooper', 4),\n",
              " ('Ibrahim El Bakraoui', 4),\n",
              " ('AQAP', 4),\n",
              " ('John Lewis', 4),\n",
              " ('Evan McMullin', 4),\n",
              " ('Kellyanne Conway', 4),\n",
              " ('John', 4),\n",
              " ('Greene', 4),\n",
              " ('Ford', 4),\n",
              " ('Parizek', 4),\n",
              " ('Cyrus Mistry', 4),\n",
              " ('the Federal Bureau of Investigation', 4),\n",
              " ('MSM', 4),\n",
              " ('Maduro', 4),\n",
              " ('Campo', 4),\n",
              " ('Al-Qaeda', 4),\n",
              " ('The Justice Department', 4),\n",
              " ('Saudis', 4),\n",
              " ('Al Nusra', 4),\n",
              " ('Joe', 4),\n",
              " ('VP', 4),\n",
              " ('Moore', 4),\n",
              " ('Christie’s', 4),\n",
              " ('Bathgate', 4),\n",
              " ('Carlos Slim', 4),\n",
              " ('Madame Defarge', 4),\n",
              " ('Lucie', 4),\n",
              " ('Rice', 4),\n",
              " ('Fatima', 4),\n",
              " ('Daesh', 4),\n",
              " ('RT', 4),\n",
              " ('RINF Alternative News', 4),\n",
              " ('Lawrence', 4),\n",
              " ('NWO', 4),\n",
              " ('Congressional', 4),\n",
              " ('NAFTA', 4),\n",
              " ('WWIII', 4),\n",
              " ('Reince Priebus', 4),\n",
              " ('Crimea', 4),\n",
              " ('Ron Paul', 4),\n",
              " ('Jen Psaki', 4),\n",
              " ('Raleigh', 4),\n",
              " ('Vogler', 4),\n",
              " ('Pompeo', 4),\n",
              " ('William Thompson', 4),\n",
              " ('MMR', 4),\n",
              " ('Price', 4),\n",
              " ('David Dayen', 4),\n",
              " ('James B. Comey', 4),\n",
              " ('govt', 4),\n",
              " ('the New York Post', 4),\n",
              " ('FOX News', 4),\n",
              " ('Lynx', 4),\n",
              " ('Chris Stirewalt', 4),\n",
              " ('Cooperman', 4),\n",
              " ('BDS', 4),\n",
              " ('we\\x92ll', 4),\n",
              " ('Laycock', 4),\n",
              " ('the US Supreme Court', 4),\n",
              " ('Orthodox', 4),\n",
              " ('Minsk', 4),\n",
              " ('Trumka', 4),\n",
              " ('Zionism', 4),\n",
              " ('Obergefell', 4),\n",
              " ('Reich', 4),\n",
              " ('CBBC', 4),\n",
              " ('NYPD', 4),\n",
              " ('Brinsley', 4),\n",
              " ('Knesset', 4),\n",
              " ('Ghanem', 4),\n",
              " ('Priebus', 4),\n",
              " ('Charles Koch', 4),\n",
              " ('BuzzFeed', 4),\n",
              " ('Albright', 4),\n",
              " ('Marriott', 4),\n",
              " ('Bellerive', 4),\n",
              " ('Khans', 4),\n",
              " ('Khan', 4),\n",
              " ('Drudge', 4),\n",
              " ('Daly', 4),\n",
              " ('METAXAS', 4),\n",
              " ('Jon', 4),\n",
              " ('Sacred Stone Spirit Camp', 4),\n",
              " ('Mayer', 4),\n",
              " ('Blumenthal', 4),\n",
              " ('Tammy Duckworth', 4),\n",
              " ('Kirk', 4),\n",
              " ('HILLARY', 4),\n",
              " ('Abdul', 4),\n",
              " ('Islamists', 4),\n",
              " ('Bigelow', 4),\n",
              " ('Kathryn Bigelow', 4),\n",
              " ('Time-Warner', 4),\n",
              " ('Carrot Top', 4),\n",
              " ('Danny Haiphong', 4),\n",
              " ('KGB', 3),\n",
              " ('John F. Kerry', 3),\n",
              " ('Francois Hollande', 3),\n",
              " ('Modi', 3),\n",
              " ('Green Party', 3),\n",
              " ('R-Texas', 3),\n",
              " ('the U.S. Navy', 3),\n",
              " ('American Muslims', 3),\n",
              " ('Winton', 3),\n",
              " ('Air Force One', 3),\n",
              " ('Howard Stern', 3),\n",
              " ('Kessler', 3),\n",
              " ('Maddow', 3),\n",
              " ('Bloomberg News', 3),\n",
              " ('Joni Ernst', 3),\n",
              " ('House of Representatives', 3),\n",
              " ('Hassan', 3),\n",
              " ('Walsh', 3),\n",
              " ('Hassan Rouhani', 3),\n",
              " (\"the White House's\", 3),\n",
              " ('Angus King', 3),\n",
              " ('Chuck Schumer', 3),\n",
              " ('Pamela Geller', 3),\n",
              " ('the American Freedom Defense Initiative', 3),\n",
              " ('Paul D. Ryan', 3),\n",
              " ('un-American', 3),\n",
              " ('R-Tex.', 3),\n",
              " ('George H.W. Bush', 3),\n",
              " (\"the Democratic Party's\", 3),\n",
              " ('Rules Committee', 3),\n",
              " ('Parnell', 3),\n",
              " ('Republican National Committee', 3),\n",
              " ('Gonzalo Curiel', 3),\n",
              " ('Corey Lewandowski', 3),\n",
              " ('Robert Costa', 3),\n",
              " ('Syrian War Report', 3),\n",
              " ('Al-Nusra', 3),\n",
              " ('YPG', 3),\n",
              " ('J. Fred Buzhardt', 3),\n",
              " ('Sputnik', 3),\n",
              " ('Gabbard', 3),\n",
              " ('National Guard', 3),\n",
              " ('Carlos Danger', 3),\n",
              " ('Venezuelan', 3),\n",
              " ('\\x93I', 3),\n",
              " ('the US Navy', 3),\n",
              " ('Hillary\\x92s', 3),\n",
              " ('the Center for American Progress', 3),\n",
              " ('the Brookings Institution', 3),\n",
              " ('Yellen', 3),\n",
              " ('Moon', 3),\n",
              " ('the FAILED GLOBAL ESTABLISHMENT', 3),\n",
              " ('the House Freedom Caucus', 3),\n",
              " ('Coonfield', 3),\n",
              " ('Yang', 3),\n",
              " ('Craig Hemke', 3),\n",
              " ('FOMC', 3),\n",
              " ('SNL', 3),\n",
              " ('PPP', 3),\n",
              " ('the US', 3),\n",
              " ('the U.S. Senate', 3),\n",
              " ('Fox News Channel', 3),\n",
              " ('Justice', 3),\n",
              " ('Heaphy', 3),\n",
              " ('Loretta', 3),\n",
              " ('Baptist', 3),\n",
              " ('Harvard Law School', 3),\n",
              " ('Gizmodo', 3),\n",
              " ('Salman', 3),\n",
              " ('Pulse', 3),\n",
              " ('Carter', 3),\n",
              " ('Seddique Mateen', 3),\n",
              " ('Messerschmitt', 3),\n",
              " (\"the Republican Party's\", 3),\n",
              " ('Rogers', 3),\n",
              " ('Stuart Stevens', 3),\n",
              " ('Darren Wilson', 3),\n",
              " ('Sergey Lavrov', 3),\n",
              " ('Kevin MacDonald', 3),\n",
              " ('White Americans', 3),\n",
              " ('Podesta', 3),\n",
              " ('Peshmerga', 3),\n",
              " ('Aziza Hamid', 3),\n",
              " ('the Iraqi Air Force', 3),\n",
              " ('the Zakho Emergency Hospital', 3),\n",
              " ('Ayn al-Arab', 3),\n",
              " ('Jordan', 3),\n",
              " ('the Kabul Bank', 3),\n",
              " ('Iraqi Air Force', 3),\n",
              " ('Suruc', 3),\n",
              " ('Carly Fiorina', 3),\n",
              " ('senate', 3),\n",
              " ('Jindal', 3),\n",
              " ('Democracy for America', 3),\n",
              " ('Jeff Weaver', 3),\n",
              " ('Bible', 3),\n",
              " ('Monica Lewinsky', 3),\n",
              " ('Chérif Kouachi', 3),\n",
              " ('The Christian Science Monitor', 3),\n",
              " ('NRA', 3),\n",
              " ('Republican Party', 3),\n",
              " ('George Washington', 3),\n",
              " ('healthcare', 3),\n",
              " ('Sony Pictures', 3),\n",
              " ('Eric Shinseki', 3),\n",
              " ('Al Sharpton', 3),\n",
              " ('Kim', 3),\n",
              " ('Schumer', 3),\n",
              " ('Health and Human Services', 3),\n",
              " ('Karl Rove', 3),\n",
              " ('Global Warming', 3),\n",
              " ('Heller', 3),\n",
              " ('Brian Fallon', 3),\n",
              " ('the FISA Amendments Act', 3),\n",
              " ('FNC', 3),\n",
              " ('Gary Johnson', 3),\n",
              " ('Brexit', 3),\n",
              " ('National Review', 3),\n",
              " ('CWC', 3),\n",
              " ('Donna Brazile', 3),\n",
              " ('Roberts', 3),\n",
              " ('Ted Strickland', 3),\n",
              " ('the Electoral College', 3),\n",
              " ('Van Leeuw', 3),\n",
              " ('Williamson', 3),\n",
              " ('Chelsea', 3),\n",
              " ('the Islamic State of Iraq', 3),\n",
              " ('the Voting Rights Act', 3),\n",
              " ('Ralph Nader', 3),\n",
              " ('Hewlett-Packard', 3),\n",
              " ('the Central Intelligence Agency', 3),\n",
              " ('Kelly', 3),\n",
              " ('Michael Snyder', 3),\n",
              " ('the Keystone Pipeline', 3),\n",
              " ('SnodtBlossom', 3),\n",
              " ('FDA', 3),\n",
              " ('Edward Snowden', 3),\n",
              " ('Stanford', 3),\n",
              " ('Department of Justice', 3),\n",
              " ('Ben Rhodes', 3),\n",
              " ('Central Bank', 3),\n",
              " ('the U.S. Congress', 3),\n",
              " ('Ray Washburne', 3),\n",
              " ('Commerce', 3),\n",
              " ('Obamas', 3),\n",
              " ('Laura Bush', 3),\n",
              " ('Cory Booker', 3),\n",
              " ('Martin O’Malley', 3),\n",
              " ('Tal Afar', 3),\n",
              " ('Stewart', 3),\n",
              " ('Ready', 3),\n",
              " ('The Daily Beast', 3),\n",
              " ('Verizon', 3),\n",
              " ('Van Tuyl', 3),\n",
              " ('Jimmy Carter', 3),\n",
              " ('Flickr License', 3),\n",
              " ('Charlotte', 3),\n",
              " ('Daniel Lazare', 3),\n",
              " ('Beauchamp', 3),\n",
              " ('Lucas Tomlinson', 3),\n",
              " ('Assange', 3),\n",
              " ('Froman', 3),\n",
              " ('Miller', 3),\n",
              " ('Gray', 3),\n",
              " ('Allen', 3),\n",
              " ('Cuomo', 3),\n",
              " ('Kennelan', 3),\n",
              " ('Proposition F', 3),\n",
              " ('General Assembly', 3),\n",
              " ('the General Assembly', 3),\n",
              " ('the Joint Chiefs of Staff', 3),\n",
              " ('The Republican Party', 3),\n",
              " ('the Republican National Committee', 3),\n",
              " (\"Bill Clinton's\", 3),\n",
              " ('Killary', 3),\n",
              " ('Charles', 3),\n",
              " ('Q&A', 3),\n",
              " ('Fallujah', 3),\n",
              " ('Peters', 3),\n",
              " ('Mike Hookem', 3),\n",
              " ('Thomas', 3),\n",
              " ('Marine', 3),\n",
              " ('the Jewish Press', 3),\n",
              " ('Amedy Coulibaly', 3),\n",
              " ('FIFTH', 3),\n",
              " ('Committee', 3),\n",
              " ('Don', 3),\n",
              " ('Stephen Bannon', 3),\n",
              " ('Breitbart News', 3),\n",
              " ('Richard Burr', 3),\n",
              " ('Barbara', 3),\n",
              " ('Pelosi', 3),\n",
              " ('Sidney Blumenthal', 3),\n",
              " ('Malaysia Airlines', 3),\n",
              " ('BEA', 3),\n",
              " ('Schiavo', 3),\n",
              " ('MH370', 3),\n",
              " ('Poliquin', 3),\n",
              " ('McCormack', 3),\n",
              " ('Crowley', 3),\n",
              " ('Nuland', 3),\n",
              " ('the US State Department', 3),\n",
              " ('NAACP', 3),\n",
              " ('Jose A. DelReal', 3),\n",
              " ('Anne Gearan', 3),\n",
              " ('WaPo', 3),\n",
              " ('Rob Portman', 3),\n",
              " ('Trumpism', 3),\n",
              " ('Parchin', 3),\n",
              " ('The Clinton Foundation', 3),\n",
              " ('Baier', 3),\n",
              " (\"Fox News's\", 3),\n",
              " ('KP', 3),\n",
              " ('Fox', 3),\n",
              " ('Fox News First', 3),\n",
              " ('Protestants', 3),\n",
              " ('the Podesta Group', 3),\n",
              " ('Center for American Progress', 3),\n",
              " ('Pink Floyd', 3),\n",
              " ('Citi', 3),\n",
              " ('he--', 3),\n",
              " ('didn\\x92t', 3),\n",
              " ('Eric', 3),\n",
              " ('Barron', 3),\n",
              " ('Robert', 3),\n",
              " ('Cisar', 3),\n",
              " ('anti-Zionist', 3),\n",
              " ('Politico Magazine', 3),\n",
              " ('AQI', 3),\n",
              " ('RAMSEE', 3),\n",
              " ('Sean Hannity', 3),\n",
              " ('Forbes', 3),\n",
              " ('Leonardo DiCaprio', 3),\n",
              " ('Energy Transfer Partners', 3),\n",
              " ('Wilhelm Bernhard', 3),\n",
              " ('Atlantis', 3),\n",
              " ('Mumsnet', 3),\n",
              " ('Mum', 3),\n",
              " ('John Oliver', 3),\n",
              " ('FGFA', 3),\n",
              " ('Arielle', 3),\n",
              " ('Colin Ferguson', 3),\n",
              " ('Clifford Glover', 3),\n",
              " ('Huntsman', 3),\n",
              " ('Pete Williams', 3),\n",
              " ('Justin Timberlake', 3),\n",
              " ('Shweiki', 3),\n",
              " ('Hastings', 3),\n",
              " ('Gearan', 3),\n",
              " ('Ben Sasse', 3),\n",
              " ('Manafort', 3),\n",
              " ('Milne', 3),\n",
              " ('Trending', 3),\n",
              " ('CBO', 3),\n",
              " ('Sessions', 3),\n",
              " ('Mormons', 3),\n",
              " ('Hepburn', 3),\n",
              " ('@markruffalo', 3),\n",
              " ('Bakken', 3),\n",
              " ('Sioux', 3),\n",
              " ('Marco', 3),\n",
              " ('Milanovic', 3),\n",
              " ('Paige Mitchell', 3),\n",
              " ('Hall', 3),\n",
              " ('John W. Whitehead', 3),\n",
              " ('COG', 3),\n",
              " ('the U.S. Constitution', 3),\n",
              " ('The Rutherford Institute', 3),\n",
              " ('HUI', 3),\n",
              " ('McCulloch', 3),\n",
              " ('VHS', 3),\n",
              " ('KKK', 3),\n",
              " ('John Fleming', 3),\n",
              " ('John Titus', 3),\n",
              " ('Morris', 3),\n",
              " ('Drudge Report', 3),\n",
              " ('Miracles', 3),\n",
              " ('BOWYER', 3),\n",
              " ('Jon Rappoport', 3),\n",
              " ('R-Wis', 3),\n",
              " ('Mark Warner', 3),\n",
              " ('Pakistani', 3),\n",
              " ('Indigenous Nations', 3),\n",
              " ('AFT', 3),\n",
              " ('Gliniewicz', 3),\n",
              " ('NutriTower', 3),\n",
              " ('al Qaeda', 3),\n",
              " ('Raymond', 3),\n",
              " ('Masters', 3),\n",
              " ('Gowdy', 3),\n",
              " ('UCLA', 3),\n",
              " ('Duckworth', 3),\n",
              " ('Goff', 3),\n",
              " ('Joe Giambrone', 3),\n",
              " ('Oliver', 3),\n",
              " ('Leni Riefenstahl', 3),\n",
              " ('bin Laden', 3),\n",
              " ('AOL', 3),\n",
              " ('NBCR', 3),\n",
              " ('SAR', 3),\n",
              " ('Commonwealth', 3),\n",
              " ('Action News', 3),\n",
              " (\"the Washington Post's\", 3),\n",
              " ('J. Edgar Hoover', 2),\n",
              " ('Clintonworld', 2),\n",
              " ('The Democratic Party', 2),\n",
              " ('Laurent Fabius', 2),\n",
              " ('Victoria Nuland', 2),\n",
              " ('D-Vt.', 2),\n",
              " ('Independents', 2),\n",
              " ('Ayatollah Khomeini', 2),\n",
              " ('Gandhi', 2),\n",
              " ('Middle Eastern', 2),\n",
              " ('the Defense Intelligence Agency', 2),\n",
              " ('Veterans Challenge Islamophobia', 2),\n",
              " ('Ramadan', 2),\n",
              " ('the Veterans Health Administration', 2),\n",
              " ('the Department of Veterans Affairs', 2),\n",
              " ('Stern', 2),\n",
              " ('Neil Cavuto', 2),\n",
              " ('Nouri al-Maliki', 2),\n",
              " ('Leon Panetta', 2),\n",
              " ('King Salman', 2),\n",
              " ('Glenn Kessler', 2),\n",
              " ('the Non-VA Medical Care Program', 2),\n",
              " ('Lauer', 2),\n",
              " ('Gadhafi', 2),\n",
              " ('Department of Veterans Affairs', 2),\n",
              " ('Edward Kennedy', 2),\n",
              " ('Mohammad Javad', 2),\n",
              " ('the US Senate', 2),\n",
              " ('the Democratic National Convention in Philadelphia', 2),\n",
              " ('Mikulski', 2),\n",
              " ('Barbara Mikulski', 2),\n",
              " ('Tim Cook', 2),\n",
              " ('Ruth Griffin', 2),\n",
              " ('Griffin', 2),\n",
              " ('Sununu', 2),\n",
              " ('Michele Obama', 2),\n",
              " ...]"
            ]
          },
          "metadata": {
            "tags": []
          },
          "execution_count": 17
        }
      ]
    },
    {
      "cell_type": "code",
      "metadata": {
        "id": "wOK3cvIgQl2Y",
        "colab": {
          "base_uri": "https://localhost:8080/"
        },
        "outputId": "0a9e9580-c191-43c0-d592-f72a18cf6e2b"
      },
      "source": [
        "!pip install aylien-news-api==0.1.0\n",
        "import aylien_news_api\n",
        "from aylien_news_api.rest import ApiException\n",
        "import spacy\n",
        "from spacy import displacy\n",
        "from collections import Counter\n",
        "import en_core_web_sm\n",
        "\n",
        "# Configure API key authorization: app_id\n",
        "aylien_news_api.configuration.api_key['X-AYLIEN-NewsAPI-Application-ID'] = 'd101abf6'\n",
        "# Configure API key authorization: app_key\n",
        "aylien_news_api.configuration.api_key['X-AYLIEN-NewsAPI-Application-Key'] = '288ff9adb9a7599664c21acc9f19481e'\n",
        "\n",
        "# create an instance of the API class\n",
        "api_instance = aylien_news_api.DefaultApi()\n",
        "\n",
        "title = 'clinton'\n",
        "language = ['en']\n",
        "since = 'NOW-40DAYS'\n",
        "until = 'NOW-20DAYS'\n",
        "\n",
        "try:\n",
        "    # List stories\n",
        "    api_response = api_instance.list_stories(title=title, language=language, published_at_start=since, published_at_end=until)\n",
        "except ApiException as e:\n",
        "    print(\"Exception when calling DefaultApi->list_stories: %s\\n\" % e)"
      ],
      "execution_count": 27,
      "outputs": [
        {
          "output_type": "stream",
          "text": [
            "Requirement already satisfied: aylien-news-api==0.1.0 in /usr/local/lib/python3.7/dist-packages (0.1.0)\n",
            "Requirement already satisfied: python-dateutil in /usr/local/lib/python3.7/dist-packages (from aylien-news-api==0.1.0) (2.8.1)\n",
            "Requirement already satisfied: urllib3>=1.15 in /usr/local/lib/python3.7/dist-packages (from aylien-news-api==0.1.0) (1.24.3)\n",
            "Requirement already satisfied: certifi in /usr/local/lib/python3.7/dist-packages (from aylien-news-api==0.1.0) (2020.12.5)\n",
            "Requirement already satisfied: six>=1.10 in /usr/local/lib/python3.7/dist-packages (from aylien-news-api==0.1.0) (1.15.0)\n"
          ],
          "name": "stdout"
        }
      ]
    },
    {
      "cell_type": "code",
      "metadata": {
        "colab": {
          "base_uri": "https://localhost:8080/"
        },
        "id": "ZA60hs2yTpbO",
        "outputId": "5e847dd9-58d2-4d81-b007-d8d30a688f09"
      },
      "source": [
        "# present_news = [] # uncomment if you are running this cell for first time, comment for the second time to add 10 more news.\n",
        "for i in api_response.stories:\n",
        "    present_news.append([i.body])\n",
        "print(\"Number of News extracted: {}\".format(len(present_news)))\n"
      ],
      "execution_count": 28,
      "outputs": [
        {
          "output_type": "stream",
          "text": [
            "Number of News extracted: 20\n"
          ],
          "name": "stdout"
        }
      ]
    },
    {
      "cell_type": "code",
      "metadata": {
        "colab": {
          "base_uri": "https://localhost:8080/"
        },
        "id": "6nu-uhmHCfIw",
        "outputId": "643a6fa8-e6ea-4968-dd81-bc2fe886e9a0"
      },
      "source": [
        "tokenizer = create_tokenizer(present_news)\n",
        "vocab_size = len(tokenizer.word_index) + 1\n",
        "# max_length = max([len(d.split()) for d in df_final['text'].values])\n",
        "present_data = encode_docs(tokenizer, 400, present_news)\n",
        "y_pred = new_model.predict_classes(present_data, batch_size=32, verbose=1)\n",
        "y_pred"
      ],
      "execution_count": 29,
      "outputs": [
        {
          "output_type": "stream",
          "text": [
            "1/1 [==============================] - 0s 29ms/step\n"
          ],
          "name": "stdout"
        },
        {
          "output_type": "stream",
          "text": [
            "/usr/local/lib/python3.7/dist-packages/tensorflow/python/keras/engine/sequential.py:450: UserWarning: `model.predict_classes()` is deprecated and will be removed after 2021-01-01. Please use instead:* `np.argmax(model.predict(x), axis=-1)`,   if your model does multi-class classification   (e.g. if it uses a `softmax` last-layer activation).* `(model.predict(x) > 0.5).astype(\"int32\")`,   if your model does binary classification   (e.g. if it uses a `sigmoid` last-layer activation).\n",
            "  warnings.warn('`model.predict_classes()` is deprecated and '\n"
          ],
          "name": "stderr"
        },
        {
          "output_type": "execute_result",
          "data": {
            "text/plain": [
              "array([0, 1, 1, 0, 0, 0, 0, 0, 0, 0, 0, 0, 0, 0, 0, 0, 0, 0, 1, 0])"
            ]
          },
          "metadata": {
            "tags": []
          },
          "execution_count": 29
        }
      ]
    },
    {
      "cell_type": "code",
      "metadata": {
        "id": "jbD-0ZxJJfyC"
      },
      "source": [
        ""
      ],
      "execution_count": null,
      "outputs": []
    }
  ]
}